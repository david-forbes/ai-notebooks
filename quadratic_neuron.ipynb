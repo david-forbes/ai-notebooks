{
  "cells": [
    {
      "cell_type": "markdown",
      "id": "92895339-8e11-4208-a216-8b15f6933f62",
      "metadata": {
        "id": "92895339-8e11-4208-a216-8b15f6933f62"
      },
      "source": [
        "# Quadratic Neural Network"
      ]
    },
    {
      "cell_type": "markdown",
      "source": [
        "A standard neural network models a linear function\n",
        "\n",
        "```\n",
        "y = ax + b\n",
        "```\n",
        "\n",
        "at each node in the network. This is a first order polynomial\n",
        "\n",
        "```\n",
        "y = a*x^1 + b*x^0\n",
        "```\n",
        "\n",
        "I experimented with polynomials of higher order\n",
        "\n",
        "```\n",
        "y = (a0)*x^0 + (a1)*x^1 + (a2)*x^2 + ... + (an)*x^n\n",
        "```\n",
        "\n",
        "motivated by the knowledge that any function that is complex differentiable on an open set can be represented as a power series, but found that cubic and greater terms resulted in very poor accuracy (at least without modification to the network) so in this notebook I will restrict this notebook to quadratic or second order polynomials\n",
        "\n",
        "```\n",
        "y = (a0)*x^0 + (a1)*x^1 + (a2)*x^2\n",
        "```\n",
        "\n",
        "It should be noted that the power of neural networks lies in their simplicity at each neuron, which allow them to be fast and makes it possible to find a local minima relatively easily. This modification complicates things, but also allows each neuron to take on the value of a curved function rather than simply a straight line.\n",
        "\n",
        "It is also interesting to note that if we normalize the input layer x to a standard normal distribution (as is fairly typical in machine learning), then x*x will be distributed with a chi squared distribution"
      ],
      "metadata": {
        "id": "5ySSkdcxo5yT"
      },
      "id": "5ySSkdcxo5yT"
    },
    {
      "cell_type": "markdown",
      "id": "069df629-a42c-4f1e-8be0-436358691b04",
      "metadata": {
        "id": "069df629-a42c-4f1e-8be0-436358691b04"
      },
      "source": [
        "## Imports"
      ]
    },
    {
      "cell_type": "code",
      "execution_count": 1,
      "id": "553610b4-d2b7-4d4b-8f79-faf4d5a9ee88",
      "metadata": {
        "id": "553610b4-d2b7-4d4b-8f79-faf4d5a9ee88"
      },
      "outputs": [],
      "source": [
        "import torch\n",
        "import torch.nn as nn\n",
        "import torch.nn.functional as F\n",
        "import torch.optim as optim\n",
        "from torch import Tensor\n",
        "from torch.utils.data import Dataset\n",
        "from torchvision import datasets\n",
        "from torchvision.transforms import ToTensor\n",
        "import matplotlib.pyplot as plt\n",
        "from torch.utils.data import DataLoader\n",
        "from torch.nn.parameter import Parameter\n",
        "import math\n",
        "\n",
        "import time\n",
        "device = 'cuda' if torch.cuda.is_available() else 'cpu'"
      ]
    },
    {
      "cell_type": "markdown",
      "id": "4c2bc754-b75f-45ce-afdf-ac8b8c40c0c6",
      "metadata": {
        "id": "4c2bc754-b75f-45ce-afdf-ac8b8c40c0c6"
      },
      "source": [
        "## Get Data"
      ]
    },
    {
      "cell_type": "code",
      "execution_count": 2,
      "id": "01ca06b6-c0a2-4df5-8996-47b3759470a1",
      "metadata": {
        "id": "01ca06b6-c0a2-4df5-8996-47b3759470a1"
      },
      "outputs": [],
      "source": [
        "#a better test would use a more difficult dataset\n",
        "training_data = datasets.MNIST(\n",
        "    root=\"data\",\n",
        "    train=True,\n",
        "    download=True,\n",
        "    transform=ToTensor()\n",
        ")\n",
        "\n",
        "test_data = datasets.MNIST(\n",
        "    root=\"data\",\n",
        "    train=False,\n",
        "    download=True,\n",
        "    transform=ToTensor()\n",
        ")\n",
        "train_dataloader = DataLoader(training_data, batch_size=128, shuffle=True)\n",
        "test_dataloader = DataLoader(test_data, batch_size=128, shuffle=True)"
      ]
    },
    {
      "cell_type": "markdown",
      "id": "93c1b55c-80fe-4487-84f2-fe846da66518",
      "metadata": {
        "id": "93c1b55c-80fe-4487-84f2-fe846da66518"
      },
      "source": [
        "## Create Quadratic layer"
      ]
    },
    {
      "cell_type": "markdown",
      "source": [
        "The below module is copied from PyTorch's *Linear* Layer with quadratic weights added"
      ],
      "metadata": {
        "id": "slqUO0wewXWS"
      },
      "id": "slqUO0wewXWS"
    },
    {
      "cell_type": "code",
      "source": [
        "class Quadratic(nn.Module):\n",
        "    __constants__ = ['in_features', 'out_features']\n",
        "    in_features: int\n",
        "    out_features: int\n",
        "    weight: Tensor\n",
        "\n",
        "    def __init__(self, in_features: int, out_features: int, bias: bool = True,\n",
        "                 device=None, dtype=None) -> None:\n",
        "        factory_kwargs = {'device': device, 'dtype': dtype}\n",
        "        super().__init__()\n",
        "        self.in_features = in_features\n",
        "        self.out_features = out_features\n",
        "\n",
        "        self.linear_weight = Parameter(torch.empty((in_features,out_features), **factory_kwargs))\n",
        "        self.quadratic_weight = Parameter(torch.empty((in_features,out_features), **factory_kwargs))\n",
        "\n",
        "        if bias:\n",
        "            self.bias = Parameter(torch.empty(out_features, **factory_kwargs))\n",
        "        else:\n",
        "            self.register_parameter('bias', None)\n",
        "        self.reset_parameters()\n",
        "\n",
        "    def reset_parameters(self) -> None:\n",
        "        nn.init.kaiming_uniform_(self.linear_weight, a=math.sqrt(5))\n",
        "        nn.init.kaiming_uniform_(self.quadratic_weight, a=math.sqrt(5))\n",
        "\n",
        "        if self.bias is not None:\n",
        "            fan_in, _ = nn.init._calculate_fan_in_and_fan_out(self.linear_weight)\n",
        "            bound = 1 / math.sqrt(fan_in) if fan_in > 0 else 0\n",
        "            nn.init.uniform_(self.bias, -bound, bound)\n",
        "\n",
        "    def forward(self, input: Tensor) -> Tensor:\n",
        "        x = input@(self.linear_weight)\n",
        "        x += (input*input)@(self.quadratic_weight)\n",
        "        #x += 0.001*(input*input*input)@(self.weight_two)\n",
        "        return x+self.bias\n",
        "\n",
        "\n",
        "    def extra_repr(self) -> str:\n",
        "        return f'in_features={self.in_features}, out_features={self.out_features}, bias={self.bias is not None}'\n",
        "\n"
      ],
      "metadata": {
        "id": "GQt5CDkAyaSj"
      },
      "id": "GQt5CDkAyaSj",
      "execution_count": 3,
      "outputs": []
    },
    {
      "cell_type": "markdown",
      "source": [
        "## Create Network"
      ],
      "metadata": {
        "id": "TgeiIBRtg67V"
      },
      "id": "TgeiIBRtg67V"
    },
    {
      "cell_type": "code",
      "source": [
        "class QuadNet(nn.Module):\n",
        "    def __init__(self):\n",
        "        super(QuadNet, self).__init__()\n",
        "        self.p1 = Quadratic(784,512,device=device)\n",
        "        self.p2 = Quadratic(512,256,device=device)\n",
        "        self.p3 = Quadratic(256,256,device=device)\n",
        "        self.p4 = Quadratic(256,10,device=device)\n",
        "\n",
        "    def forward(self, x):\n",
        "        x = F.relu(self.p1(x))\n",
        "        x = F.relu(self.p2(x))\n",
        "        x = F.relu(self.p3(x))\n",
        "        x = self.p4(x)\n",
        "\n",
        "        return x"
      ],
      "metadata": {
        "id": "_3n2S1_T1MaY"
      },
      "id": "_3n2S1_T1MaY",
      "execution_count": 4,
      "outputs": []
    },
    {
      "cell_type": "markdown",
      "source": [
        "## Train"
      ],
      "metadata": {
        "id": "ZAxMXNYgoEtw"
      },
      "id": "ZAxMXNYgoEtw"
    },
    {
      "cell_type": "code",
      "source": [
        "def train_one_epoch(model, lr=0.01):\n",
        "    loss_fn = nn.CrossEntropyLoss()\n",
        "    for param in model.parameters():\n",
        "      param = param.to(device)\n",
        "    optimizer = optim.Adam(model.parameters(),lr=lr)\n",
        "\n",
        "    for inputs, labels in train_dataloader:\n",
        "      optimizer.zero_grad()\n",
        "      inputs = inputs.to(device)\n",
        "      labels = labels.to(device)\n",
        "      outputs = model.forward(inputs.reshape(-1,784))\n",
        "      loss = loss_fn(outputs, labels)\n",
        "      loss.backward()\n",
        "      optimizer.step()"
      ],
      "metadata": {
        "id": "pAC2UT0uoD04"
      },
      "id": "pAC2UT0uoD04",
      "execution_count": 5,
      "outputs": []
    },
    {
      "cell_type": "markdown",
      "id": "3e31b860-ce22-48cf-b12c-b78f5c7fd6f1",
      "metadata": {
        "id": "3e31b860-ce22-48cf-b12c-b78f5c7fd6f1"
      },
      "source": [
        "## Test"
      ]
    },
    {
      "cell_type": "code",
      "execution_count": 6,
      "id": "1d87240e-033f-4e44-b4a1-f51d1a39e946",
      "metadata": {
        "id": "1d87240e-033f-4e44-b4a1-f51d1a39e946"
      },
      "outputs": [],
      "source": [
        "def test(model, dataloader = test_dataloader):\n",
        "\n",
        "    with torch.no_grad():\n",
        "        correct = 0\n",
        "        total = 0\n",
        "        for inputs, labels in dataloader:\n",
        "            inputs = inputs.to(device)\n",
        "            labels=labels.to(device)\n",
        "            outputs = model.forward(inputs.reshape(-1,784))\n",
        "            _, predicted = torch.max(outputs.data, 1)\n",
        "            total += labels.size(0)\n",
        "            correct += (predicted == labels).sum().item()\n",
        "    return correct/total"
      ]
    },
    {
      "cell_type": "markdown",
      "id": "7119e3e1-187f-48b2-b0a8-16715655c9ed",
      "metadata": {
        "id": "7119e3e1-187f-48b2-b0a8-16715655c9ed"
      },
      "source": [
        "## It works!"
      ]
    },
    {
      "cell_type": "code",
      "source": [
        "model = QuadNet()\n",
        "model.to(device)\n",
        "num_epochs = 5\n",
        "lr=0.001\n",
        "#set to false if no gpu\n",
        "for epoch in range(num_epochs):\n",
        "  lr*=.5\n",
        "  train_one_epoch(model,lr = lr)\n",
        "  test_acc = test(model)\n",
        "  print(f\"epoch : {epoch+1},test acc : {test_acc}\")"
      ],
      "metadata": {
        "colab": {
          "base_uri": "https://localhost:8080/"
        },
        "id": "YM313KLl1tH7",
        "outputId": "4b4ecf69-9020-4e90-e499-2c5cd9628170"
      },
      "id": "YM313KLl1tH7",
      "execution_count": 7,
      "outputs": [
        {
          "output_type": "stream",
          "name": "stdout",
          "text": [
            "epoch : 1,test acc : 0.9634\n",
            "epoch : 2,test acc : 0.97\n",
            "epoch : 3,test acc : 0.9796\n",
            "epoch : 4,test acc : 0.9815\n",
            "epoch : 5,test acc : 0.9826\n"
          ]
        }
      ]
    }
  ],
  "metadata": {
    "kernelspec": {
      "display_name": "Python 3",
      "name": "python3"
    },
    "language_info": {
      "codemirror_mode": {
        "name": "ipython",
        "version": 3
      },
      "file_extension": ".py",
      "mimetype": "text/x-python",
      "name": "python",
      "nbconvert_exporter": "python",
      "pygments_lexer": "ipython3",
      "version": "3.8.10"
    },
    "colab": {
      "provenance": [],
      "gpuType": "T4"
    },
    "accelerator": "GPU"
  },
  "nbformat": 4,
  "nbformat_minor": 5
}