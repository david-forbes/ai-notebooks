{
 "cells": [
  {
   "cell_type": "markdown",
   "id": "92895339-8e11-4208-a216-8b15f6933f62",
   "metadata": {},
   "source": [
    "# GPU vs CPU ConvNet"
   ]
  },
  {
   "cell_type": "markdown",
   "id": "069df629-a42c-4f1e-8be0-436358691b04",
   "metadata": {},
   "source": [
    "## Imports"
   ]
  },
  {
   "cell_type": "code",
   "execution_count": 1,
   "id": "553610b4-d2b7-4d4b-8f79-faf4d5a9ee88",
   "metadata": {},
   "outputs": [],
   "source": [
    "import torch\n",
    "import torch.nn as nn\n",
    "import torch.nn.functional as F\n",
    "import torch.optim as optim\n",
    "from torch import Tensor\n",
    "from torch.utils.data import Dataset\n",
    "from torchvision import datasets\n",
    "from torchvision.transforms import ToTensor\n",
    "import matplotlib.pyplot as plt\n",
    "from torch.utils.data import DataLoader\n",
    "import time"
   ]
  },
  {
   "cell_type": "markdown",
   "id": "4c2bc754-b75f-45ce-afdf-ac8b8c40c0c6",
   "metadata": {},
   "source": [
    "## Get Data"
   ]
  },
  {
   "cell_type": "code",
   "execution_count": 2,
   "id": "01ca06b6-c0a2-4df5-8996-47b3759470a1",
   "metadata": {},
   "outputs": [],
   "source": [
    "training_data = datasets.MNIST(\n",
    "    root=\"data\",\n",
    "    train=True,\n",
    "    download=True,\n",
    "    transform=ToTensor()\n",
    ")\n",
    "\n",
    "test_data = datasets.MNIST(\n",
    "    root=\"data\",\n",
    "    train=False,\n",
    "    download=True,\n",
    "    transform=ToTensor()\n",
    ")\n",
    "train_dataloader = DataLoader(training_data, batch_size=128, shuffle=True)\n",
    "test_dataloader = DataLoader(test_data, batch_size=128, shuffle=True)"
   ]
  },
  {
   "cell_type": "markdown",
   "id": "93c1b55c-80fe-4487-84f2-fe846da66518",
   "metadata": {},
   "source": [
    "## Create Model"
   ]
  },
  {
   "cell_type": "code",
   "execution_count": 3,
   "id": "1583a309-390c-4438-8d5c-54fcb38c75b4",
   "metadata": {},
   "outputs": [],
   "source": [
    "class ConvNet(nn.Module):\n",
    "    def __init__(self):\n",
    "        super(ConvNet, self).__init__()\n",
    "        self.conv1 = nn.Conv2d(1, 6, 5)\n",
    "        self.conv2 = nn.Conv2d(6, 16, 5)\n",
    "        self.fc1 = nn.Linear(256, 120) \n",
    "        self.fc2 = nn.Linear(120, 84)\n",
    "        self.fc3 = nn.Linear(84, 10)\n",
    "\n",
    "    def forward(self, x):\n",
    "        x = F.max_pool2d(F.relu(self.conv1(x)), (2, 2))\n",
    "        x = F.max_pool2d(F.relu(self.conv2(x)), 2)\n",
    "        x = torch.flatten(x, 1) \n",
    "        x = F.relu(self.fc1(x))\n",
    "        x = F.relu(self.fc2(x))\n",
    "        x = self.fc3(x)\n",
    "        return x"
   ]
  },
  {
   "cell_type": "markdown",
   "id": "4643ab58-a7a6-4a02-bf1a-c26dd3d5993a",
   "metadata": {},
   "source": [
    "## Train"
   ]
  },
  {
   "cell_type": "code",
   "execution_count": 4,
   "id": "54afdccc-177c-4f92-9e46-4a3c1bbed3ac",
   "metadata": {},
   "outputs": [],
   "source": [
    "def train(model,gpu=True,learning_rate=0.01,num_epochs = 10):\n",
    "    if gpu:model = model.cuda()\n",
    "    else:model = model.cpu()\n",
    "    learning_rate=0.01\n",
    "    num_epochs = 10\n",
    "    loss_fn = nn.CrossEntropyLoss()\n",
    "    optimizer = optim.SGD(model.parameters(), lr=learning_rate)\n",
    "    \n",
    "    for epoch in range(num_epochs):\n",
    "        for inputs, labels in train_dataloader:\n",
    "            if gpu:inputs,labels = inputs.cuda(),labels.cuda()\n",
    "            else:inputs.cpu(),labels.cpu()\n",
    "            optimizer.zero_grad()\n",
    "            outputs = model(inputs)\n",
    "            loss = loss_fn(outputs, labels)\n",
    "            loss.backward()\n",
    "            optimizer.step()"
   ]
  },
  {
   "cell_type": "markdown",
   "id": "3e31b860-ce22-48cf-b12c-b78f5c7fd6f1",
   "metadata": {},
   "source": [
    "## Test"
   ]
  },
  {
   "cell_type": "code",
   "execution_count": 5,
   "id": "1d87240e-033f-4e44-b4a1-f51d1a39e946",
   "metadata": {},
   "outputs": [],
   "source": [
    "def test(model):\n",
    "    model = model.cpu()\n",
    "    with torch.no_grad():\n",
    "        correct = 0\n",
    "        total = 0\n",
    "        for inputs, labels in test_dataloader:\n",
    "            outputs = model(inputs)\n",
    "            _, predicted = torch.max(outputs.data, 1)\n",
    "            total += labels.size(0)\n",
    "            correct += (predicted == labels).sum().item()\n",
    "    return correct/total"
   ]
  },
  {
   "cell_type": "markdown",
   "id": "7119e3e1-187f-48b2-b0a8-16715655c9ed",
   "metadata": {},
   "source": [
    "## Test GPU vs CPU"
   ]
  },
  {
   "cell_type": "code",
   "execution_count": 7,
   "id": "1f0b5d08-147b-4777-bd30-2cfad8741201",
   "metadata": {},
   "outputs": [
    {
     "name": "stdout",
     "output_type": "stream",
     "text": [
      "device = CPU ; time is 26.932759523391724 ; acc is 0.9658\n",
      "device = GPU ; time is 17.201897144317627 ; acc is 0.967\n"
     ]
    }
   ],
   "source": [
    "models = [ConvNet(),ConvNet()]\n",
    "\n",
    "for x in range(len(models)):\n",
    "    start = time.time()\n",
    "    train(models[x],gpu=x)\n",
    "    acc = test(models[x])\n",
    "    print(f'device = {[\"CPU\",\"GPU\"][x]} ; time is {time.time()-start} ; acc is {acc}')"
   ]
  }
 ],
 "metadata": {
  "kernelspec": {
   "display_name": "Python 3 (ipykernel)",
   "language": "python",
   "name": "python3"
  },
  "language_info": {
   "codemirror_mode": {
    "name": "ipython",
    "version": 3
   },
   "file_extension": ".py",
   "mimetype": "text/x-python",
   "name": "python",
   "nbconvert_exporter": "python",
   "pygments_lexer": "ipython3",
   "version": "3.8.10"
  }
 },
 "nbformat": 4,
 "nbformat_minor": 5
}
