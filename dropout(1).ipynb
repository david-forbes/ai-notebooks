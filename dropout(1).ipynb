{
  "cells": [
    {
      "cell_type": "markdown",
      "metadata": {
        "id": "92895339-8e11-4208-a216-8b15f6933f62"
      },
      "source": [
        "# Implementing Dropout"
      ],
      "id": "92895339-8e11-4208-a216-8b15f6933f62"
    },
    {
      "cell_type": "markdown",
      "metadata": {
        "id": "DVmeDAeuQqSX"
      },
      "source": [
        "In this notebook I implement [dropout](https://www.cs.toronto.edu/~rsalakhu/papers/srivastava14a.pdf) in a simple neural network and test it on the MNIST dataset. First I write a rough version, then clean it up to make it more usable."
      ],
      "id": "DVmeDAeuQqSX"
    },
    {
      "cell_type": "markdown",
      "metadata": {
        "id": "069df629-a42c-4f1e-8be0-436358691b04"
      },
      "source": [
        "## Imports"
      ],
      "id": "069df629-a42c-4f1e-8be0-436358691b04"
    },
    {
      "cell_type": "code",
      "execution_count": null,
      "metadata": {
        "id": "553610b4-d2b7-4d4b-8f79-faf4d5a9ee88"
      },
      "outputs": [],
      "source": [
        "import torch\n",
        "import torch.nn as nn\n",
        "import torch.nn.functional as F\n",
        "import torch.optim as optim\n",
        "from torch import Tensor\n",
        "from torch.utils.data import Dataset\n",
        "from torchvision import datasets\n",
        "from torchvision.transforms import ToTensor\n",
        "from torch.utils.data import DataLoader\n",
        "\n",
        "device = torch.device(\"cuda\" if torch.cuda.is_available() else \"cpu\")\n",
        "\n",
        "import time"
      ],
      "id": "553610b4-d2b7-4d4b-8f79-faf4d5a9ee88"
    },
    {
      "cell_type": "markdown",
      "metadata": {
        "id": "4c2bc754-b75f-45ce-afdf-ac8b8c40c0c6"
      },
      "source": [
        "## Get Data"
      ],
      "id": "4c2bc754-b75f-45ce-afdf-ac8b8c40c0c6"
    },
    {
      "cell_type": "code",
      "execution_count": null,
      "metadata": {
        "id": "01ca06b6-c0a2-4df5-8996-47b3759470a1"
      },
      "outputs": [],
      "source": [
        "training_data = datasets.MNIST(\n",
        "    root=\"data\",\n",
        "    train=True,\n",
        "    download=True,\n",
        "    transform=ToTensor()\n",
        ")\n",
        "\n",
        "test_data = datasets.MNIST(\n",
        "    root=\"data\",\n",
        "    train=False,\n",
        "    download=True,\n",
        "    transform=ToTensor()\n",
        ")\n",
        "train_dataloader = DataLoader(training_data, batch_size=128, shuffle=True)\n",
        "test_dataloader = DataLoader(test_data, batch_size=128, shuffle=True)"
      ],
      "id": "01ca06b6-c0a2-4df5-8996-47b3759470a1"
    },
    {
      "cell_type": "markdown",
      "metadata": {
        "id": "93c1b55c-80fe-4487-84f2-fe846da66518"
      },
      "source": [
        "## Create Model"
      ],
      "id": "93c1b55c-80fe-4487-84f2-fe846da66518"
    },
    {
      "cell_type": "code",
      "execution_count": null,
      "metadata": {
        "id": "VmENHb0t7cOn"
      },
      "outputs": [],
      "source": [
        "class DropoutNet(nn.Module):\n",
        "    def __init__(self,dropout=True):\n",
        "        super(DropoutNet, self).__init__()\n",
        "\n",
        "        #we reduce the standard deviation of initialised weights to reduce chance of gradient explosion\n",
        "        std = torch.sqrt(torch.tensor(2 / 256))\n",
        "        self.dropout=dropout\n",
        "        self.w1 = torch.randn((784,784),device=device)*std\n",
        "        self.w2 = torch.randn((784,784),device=device)*std\n",
        "        self.w3 = torch.randn((784,784),device=device)*std\n",
        "        self.w4 = torch.randn((784,256),device=device)*std\n",
        "        self.w5 = torch.randn((256,10),device=device)*std\n",
        "\n",
        "        self.b1 = torch.randn((1,784),device=device)*std\n",
        "        self.b2 = torch.randn((1,784),device=device)*std\n",
        "        self.b3 = torch.randn((1,784),device=device)*std\n",
        "        self.b4 = torch.randn((1,256),device=device)*std\n",
        "        self.b5 = torch.randn((1,10),device=device)*std\n",
        "\n",
        "\n",
        "        self.params = [self.w1,self.w2,self.w3,self.w4,self.w5,self.b1,self.b2,self.b3,self.b4,self.b5]\n",
        "        for param in self.params:\n",
        "          param.requires_grad_()\n",
        "          param.to(device)\n",
        "\n",
        "\n",
        "    def forward(self, x,train=True):\n",
        "      #if we are training the network, we add dropout - we remove randomly selected nodes from the neural network.\n",
        "      #each node has a 50% chance of being removed from the network\n",
        "\n",
        "      #if we are testing the network, we use every node.\n",
        "      #this strategy helps prevent overfitting to the training data\n",
        "        if train and self.dropout:\n",
        "            self.d1 = torch.randint(2,[784],device=device)\n",
        "            self.d2 = torch.randint(2,[784],device=device)\n",
        "            self.d3 = torch.randint(2,[784],device=device)\n",
        "            self.d4 = torch.randint(2,[784],device=device)\n",
        "            self.d5 = torch.randint(2,[256],device=device)\n",
        "        else:\n",
        "            self.d1 = torch.ones([784],device=device)\n",
        "            self.d2 = torch.ones([784],device=device)\n",
        "            self.d3 = torch.ones([784],device=device)\n",
        "            self.d4 = torch.ones([784],device=device)\n",
        "            self.d5 = torch.ones([256],device=device)\n",
        "\n",
        "\n",
        "        x = F.relu(x@(self.w1).mul(self.d1.reshape(-1,1)))+self.b1\n",
        "        x = F.relu(x@(self.w2).mul(self.d2.reshape(-1,1)))+self.b2\n",
        "        x = F.relu(x@(self.w3).mul(self.d3.reshape(-1,1)))+self.b3\n",
        "        x = F.relu(x@(self.w4).mul(self.d4.reshape(-1,1)))+self.b4\n",
        "        x = F.relu(x@(self.w5).mul(self.d5.reshape(-1,1)))+self.b5\n",
        "        return x\n",
        "    def parameters(self):return self.params\n",
        "\n"
      ],
      "id": "VmENHb0t7cOn"
    },
    {
      "cell_type": "markdown",
      "metadata": {
        "id": "ZAxMXNYgoEtw"
      },
      "source": [
        "## Train"
      ],
      "id": "ZAxMXNYgoEtw"
    },
    {
      "cell_type": "code",
      "execution_count": null,
      "metadata": {
        "id": "54afdccc-177c-4f92-9e46-4a3c1bbed3ac"
      },
      "outputs": [],
      "source": [
        "def train_one_epoch(model,dropout=True):\n",
        "    model = model.to(device)\n",
        "\n",
        "    loss_fn = nn.CrossEntropyLoss()\n",
        "\n",
        "    optimizer = optim.Adam(model.parameters())\n",
        "\n",
        "    for inputs, labels in train_dataloader:\n",
        "\n",
        "        optimizer.zero_grad()\n",
        "        outputs = model.forward(inputs.to(device).reshape(-1,784))\n",
        "        loss = loss_fn(outputs, labels.to(device))\n",
        "        loss.backward()\n",
        "        optimizer.step()\n"
      ],
      "id": "54afdccc-177c-4f92-9e46-4a3c1bbed3ac"
    },
    {
      "cell_type": "markdown",
      "metadata": {
        "id": "3e31b860-ce22-48cf-b12c-b78f5c7fd6f1"
      },
      "source": [
        "## Test"
      ],
      "id": "3e31b860-ce22-48cf-b12c-b78f5c7fd6f1"
    },
    {
      "cell_type": "code",
      "execution_count": null,
      "metadata": {
        "id": "1d87240e-033f-4e44-b4a1-f51d1a39e946"
      },
      "outputs": [],
      "source": [
        "def test(model, dataloader=test_dataloader):\n",
        "    with torch.no_grad():\n",
        "        correct = 0\n",
        "        total = 0\n",
        "        for inputs, labels in dataloader:\n",
        "            outputs = model.forward(inputs.to(device).reshape(-1,784),train=False)\n",
        "            _, predicted = torch.max(outputs.data, 1)\n",
        "            total += labels.size(0)\n",
        "            correct += (predicted == labels.to(device)).sum().item()\n",
        "    return correct/total"
      ],
      "id": "1d87240e-033f-4e44-b4a1-f51d1a39e946"
    },
    {
      "cell_type": "markdown",
      "metadata": {
        "id": "7119e3e1-187f-48b2-b0a8-16715655c9ed"
      },
      "source": [
        "## It works!"
      ],
      "id": "7119e3e1-187f-48b2-b0a8-16715655c9ed"
    },
    {
      "cell_type": "markdown",
      "metadata": {
        "id": "2BfSMUAr0_Wk"
      },
      "source": [
        "Here we can see the dropout in action. The test data accuracy on the no dropout model is much lower than the training accuracy - a sign of overfitting. On the model that uses dropout we see a much smaller difference between the train/test accuracy.\n",
        "\n",
        "We also see faster training when using dropout with a large amount of neurons as the dropout causes \"subnetworks\" to be trained individually, which are then combined during testing\n",
        "\n",
        "On the MNIST dataset, the model without dropout does ultimately perform better, which could be caused by the relative simplicity of the task and a lack of significant variation between training and test datasets"
      ],
      "id": "2BfSMUAr0_Wk"
    },
    {
      "cell_type": "code",
      "execution_count": null,
      "metadata": {
        "colab": {
          "base_uri": "https://localhost:8080/"
        },
        "id": "ReTeakneE0y2",
        "outputId": "3270e5e8-ac4b-427a-f3dd-efb80cbf9303"
      },
      "outputs": [
        {
          "output_type": "stream",
          "name": "stdout",
          "text": [
            "model with dropout\n",
            "epoch : 0 | accuracy on test set : 0.804 | accuracy on train set : 0.8012833333333333 | difference between test and train accuracy = -0.0027166666666667005\n",
            "epoch : 1 | accuracy on test set : 0.9198 | accuracy on train set : 0.9170333333333334 | difference between test and train accuracy = -0.002766666666666584\n",
            "epoch : 2 | accuracy on test set : 0.9417 | accuracy on train set : 0.9428333333333333 | difference between test and train accuracy = 0.0011333333333333195\n",
            "epoch : 3 | accuracy on test set : 0.954 | accuracy on train set : 0.9559666666666666 | difference between test and train accuracy = 0.001966666666666672\n",
            "epoch : 4 | accuracy on test set : 0.9587 | accuracy on train set : 0.962 | difference between test and train accuracy = 0.0032999999999999696\n",
            "epoch : 5 | accuracy on test set : 0.9625 | accuracy on train set : 0.9651666666666666 | difference between test and train accuracy = 0.002666666666666595\n",
            "epoch : 6 | accuracy on test set : 0.965 | accuracy on train set : 0.9683 | difference between test and train accuracy = 0.0033000000000000806\n",
            "epoch : 7 | accuracy on test set : 0.9683 | accuracy on train set : 0.9724833333333334 | difference between test and train accuracy = 0.004183333333333317\n",
            "epoch : 8 | accuracy on test set : 0.9697 | accuracy on train set : 0.9742333333333333 | difference between test and train accuracy = 0.004533333333333278\n",
            "epoch : 9 | accuracy on test set : 0.9704 | accuracy on train set : 0.9753833333333334 | difference between test and train accuracy = 0.00498333333333334\n",
            "model without dropout\n",
            "epoch : 0 | accuracy on test set : 0.1135 | accuracy on train set : 0.11236666666666667 | difference between test and train accuracy = -0.0011333333333333334\n",
            "epoch : 1 | accuracy on test set : 0.1135 | accuracy on train set : 0.11236666666666667 | difference between test and train accuracy = -0.0011333333333333334\n",
            "epoch : 2 | accuracy on test set : 0.1135 | accuracy on train set : 0.11236666666666667 | difference between test and train accuracy = -0.0011333333333333334\n",
            "epoch : 3 | accuracy on test set : 0.1135 | accuracy on train set : 0.11236666666666667 | difference between test and train accuracy = -0.0011333333333333334\n",
            "epoch : 4 | accuracy on test set : 0.1135 | accuracy on train set : 0.11236666666666667 | difference between test and train accuracy = -0.0011333333333333334\n",
            "epoch : 5 | accuracy on test set : 0.1135 | accuracy on train set : 0.11236666666666667 | difference between test and train accuracy = -0.0011333333333333334\n",
            "epoch : 6 | accuracy on test set : 0.1135 | accuracy on train set : 0.11236666666666667 | difference between test and train accuracy = -0.0011333333333333334\n",
            "epoch : 7 | accuracy on test set : 0.1135 | accuracy on train set : 0.11236666666666667 | difference between test and train accuracy = -0.0011333333333333334\n",
            "epoch : 8 | accuracy on test set : 0.1135 | accuracy on train set : 0.11236666666666667 | difference between test and train accuracy = -0.0011333333333333334\n",
            "epoch : 9 | accuracy on test set : 0.1135 | accuracy on train set : 0.11236666666666667 | difference between test and train accuracy = -0.0011333333333333334\n"
          ]
        }
      ],
      "source": [
        "models = [DropoutNet(),DropoutNet(dropout=False)]\n",
        "for model in models:\n",
        "  print(f\"model {['without','with'][int(model.dropout)]} dropout\")\n",
        "  for epoch in range(10):\n",
        "    train_one_epoch(model)\n",
        "    test_acc,train_acc = test(model),test(model,dataloader = train_dataloader)\n",
        "    print(f\"epoch : {epoch} | accuracy on test set : {test_acc} | accuracy on train set : {train_acc} | difference between test and train accuracy = {train_acc-test_acc}\")\n"
      ],
      "id": "ReTeakneE0y2"
    },
    {
      "cell_type": "markdown",
      "source": [
        "## Clean Version"
      ],
      "metadata": {
        "id": "LqkyvaOCNcU-"
      },
      "id": "LqkyvaOCNcU-"
    },
    {
      "cell_type": "code",
      "source": [
        "class Dropout(nn.Module):\n",
        "  def __init__(self):\n",
        "    super(Dropout,self).__init__()\n",
        "    self.training=True\n",
        "\n",
        "  def forward(self, x):\n",
        "    if self.training:\n",
        "      return x\n",
        "    length = x.shape[-1]\n",
        "    mask = torch.randint(2,(length,),device=device)\n",
        "    return x.mul(mask)\n"
      ],
      "metadata": {
        "id": "vJVs7-CNOmuU"
      },
      "id": "vJVs7-CNOmuU",
      "execution_count": null,
      "outputs": []
    },
    {
      "cell_type": "code",
      "source": [
        "class CleanNet(nn.Module):\n",
        "    def __init__(self):\n",
        "        super(CleanNet, self).__init__()\n",
        "        self.d = Dropout()\n",
        "        self.l1 = nn.Linear(784,784,device=device)\n",
        "        self.l2 = nn.Linear(784,256,device=device)\n",
        "        self.l3 = nn.Linear(256,10,device=device)\n",
        "\n",
        "    def forward(self, x,train=True):\n",
        "      if train:\n",
        "        self.d.training=False\n",
        "      else:\n",
        "        self.d.training=True\n",
        "\n",
        "      x = self.d(x)\n",
        "      x = F.relu(self.l1(x))\n",
        "      x = self.d(x)\n",
        "      x = F.relu(self.l2(x))\n",
        "      x = self.d(x)\n",
        "      x = F.relu(self.l3(x))\n",
        "\n",
        "      return x"
      ],
      "metadata": {
        "id": "uAmFpP3ONeNa"
      },
      "id": "uAmFpP3ONeNa",
      "execution_count": null,
      "outputs": []
    },
    {
      "cell_type": "code",
      "source": [
        "model = CleanNet()\n",
        "for epoch in range(5):\n",
        "  train_one_epoch(model)\n",
        "  test_acc,train_acc = test(model),test(model,dataloader = train_dataloader)\n",
        "  print(f\"epoch : {epoch} | accuracy on test set : {test_acc} | accuracy on train set : {train_acc} | difference between test and train accuracy = {train_acc-test_acc}\")"
      ],
      "metadata": {
        "colab": {
          "base_uri": "https://localhost:8080/"
        },
        "id": "TzRc5UxhN0bO",
        "outputId": "0f3d680d-95a1-468b-c658-63e1d16b7af1"
      },
      "id": "TzRc5UxhN0bO",
      "execution_count": null,
      "outputs": [
        {
          "output_type": "stream",
          "name": "stdout",
          "text": [
            "epoch : 0 | accuracy on test set : 0.9104 | accuracy on train set : 0.9062833333333333 | difference between test and train accuracy = -0.004116666666666657\n",
            "epoch : 1 | accuracy on test set : 0.9412 | accuracy on train set : 0.9411 | difference between test and train accuracy = -9.999999999998899e-05\n",
            "epoch : 2 | accuracy on test set : 0.9502 | accuracy on train set : 0.9508666666666666 | difference between test and train accuracy = 0.0006666666666665932\n",
            "epoch : 3 | accuracy on test set : 0.9604 | accuracy on train set : 0.9599833333333333 | difference between test and train accuracy = -0.0004166666666667318\n",
            "epoch : 4 | accuracy on test set : 0.9632 | accuracy on train set : 0.9675333333333334 | difference between test and train accuracy = 0.004333333333333411\n"
          ]
        }
      ]
    }
  ],
  "metadata": {
    "accelerator": "GPU",
    "colab": {
      "provenance": []
    },
    "kernelspec": {
      "display_name": "Python 3",
      "name": "python3"
    },
    "language_info": {
      "codemirror_mode": {
        "name": "ipython",
        "version": 3
      },
      "file_extension": ".py",
      "mimetype": "text/x-python",
      "name": "python",
      "nbconvert_exporter": "python",
      "pygments_lexer": "ipython3",
      "version": "3.8.10"
    }
  },
  "nbformat": 4,
  "nbformat_minor": 5
}