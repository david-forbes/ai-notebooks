{
 "cells": [
  {
   "cell_type": "markdown",
   "metadata": {},
   "source": [
    "# Neural Network from Scratch\n",
    "## Neural Network implemented from scratch using linear algebra library\n",
    "## Adjustable layer count/layer size\n"
   ]
  },
  {
   "cell_type": "code",
   "execution_count": 1,
   "metadata": {},
   "outputs": [],
   "source": [
    "import gzip\n",
    "import hashlib\n",
    "import os\n",
    "import requests\n",
    "import numpy as np\n",
    "from tqdm import trange\n",
    "import matplotlib.pyplot as plt\n",
    "from matplotlib.pyplot import imshow\n",
    "%matplotlib inline\n",
    "\n",
    "\n",
    "def fetch(url):\n",
    "\n",
    "    fp = os.path.join(\"/tmp\", hashlib.md5(url.encode('utf-8')).hexdigest())\n",
    "    if os.path.isfile(fp):\n",
    "        with open(fp, \"rb\") as f:\n",
    "            dat = f.read()\n",
    "    else:\n",
    "        with open(fp, \"wb\") as f:\n",
    "            dat = requests.get(url).content\n",
    "            f.write(dat)\n",
    "    return np.frombuffer(gzip.decompress(dat), dtype=np.uint8).copy()\n",
    "\n",
    "\n",
    "X_train = fetch(\n",
    "    \"http://yann.lecun.com/exdb/mnist/train-images-idx3-ubyte.gz\")[0x10:].reshape((-1, 28, 28))\n",
    "Y_train = fetch(\n",
    "    \"http://yann.lecun.com/exdb/mnist/train-labels-idx1-ubyte.gz\")[8:]\n",
    "X_test = fetch(\n",
    "    \"http://yann.lecun.com/exdb/mnist/t10k-images-idx3-ubyte.gz\")[0x10:].reshape((-1, 28, 28))\n",
    "Y_test = fetch(\n",
    "    \"http://yann.lecun.com/exdb/mnist/t10k-labels-idx1-ubyte.gz\")[8:]\n"
   ]
  },
  {
   "cell_type": "code",
   "execution_count": 2,
   "metadata": {},
   "outputs": [],
   "source": [
    "#different methods of initialising weights/biases\n",
    "#gaussian works poorly for more than 2 layers.\n",
    "#fan_init seems to work best for this reason\n",
    "def gaussian_init(m, h):\n",
    "    ret = np.random.uniform(-1., 1., size=(m, h))/np.sqrt(m*h)\n",
    "    return ret.astype(np.float32)\n",
    "\n",
    "def he_init(m, h):\n",
    "    ret = np.random.randn(m,h)*np.sqrt(2/h)\n",
    "    return ret.astype(np.float32)\n",
    "\n",
    "def fan_init(m, h):\n",
    "    ret = np.random.randn(m,h)*np.sqrt(12/(2*m*h))\n",
    "    return ret.astype(np.float32)\n",
    "#helper functions to initialise paramteres(weights and biases)\n",
    "def get_layer_sizes(input_size,hidden_layers,output_size):\n",
    "    layer_sizes = [input_size]+hidden_layers+[output_size]\n",
    "    return layer_sizes\n",
    "\n",
    "def param_init(layer_sizes,layer_init):\n",
    "    params=[[],[]]\n",
    "    for i in range(1,len(layer_sizes)):\n",
    "        params[0].append(layer_init(1,layer_sizes[i]))\n",
    "        params[1].append(layer_init(layer_sizes[i-1],layer_sizes[i]))\n",
    "    return params\n",
    "def get_params(input_size,hidden_layers,output_size,layer_init):\n",
    "    layer_sizes = get_layer_sizes(input_size,hidden_layers,output_size)\n",
    "    params = param_init(layer_sizes,layer_init)\n",
    "    return params\n",
    "#gives output of neural network for a given input\n",
    "def forward(x,params):\n",
    "    for i in range(len(params[0])-1):\n",
    "        x = x.dot(params[1][i])+params[0][i]\n",
    "        x = np.maximum(x,0)\n",
    "    \n",
    "    x = x.dot(params[1][-1])+params[0][-1]\n",
    "    return x\n",
    "#tests neural network on test data\n",
    "def numpy_eval(params):\n",
    "    Y_test_preds_out = forward(X_test.reshape((-1, 28*28)),params)\n",
    "    Y_test_preds = np.argmax(Y_test_preds_out, axis=1)\n",
    "    return (Y_test == Y_test_preds).mean()\n",
    "#activation function & derivative\n",
    "def sigmoid(x):\n",
    "    x=np.clip(x,-500,500)\n",
    "    return 1 / (1 + np.exp(-x))\n",
    "\n",
    "def sigmoid_derivative(x):\n",
    "    return sigmoid(x)*(1-sigmoid(x))\n",
    "#loss function and derivative\n",
    "def mse(targets, predictions):\n",
    "    mse = ((targets - predictions)**2).mean(axis=0)\n",
    "    return mse\n",
    "\n",
    "def mse_derivative(targets, predictions):\n",
    "    return 2*(predictions-targets)/predictions.shape[1]\n"
   ]
  },
  {
   "cell_type": "code",
   "execution_count": 3,
   "metadata": {},
   "outputs": [],
   "source": [
    "def forward_backward(x,y,params):\n",
    "    # training\n",
    "    out = np.zeros((len(y), 10), np.float32)\n",
    "    out[range(out.shape[0]), y] = 1\n",
    "\n",
    "    input_layer = [x]\n",
    "    output_layer = []\n",
    "    d_output_layer = []\n",
    "    d_input_layer = []\n",
    "    \n",
    "    # forward pass layer 0-x\n",
    "    \n",
    "    for i in range(len(params[0])-1):\n",
    "        output_layer.append(input_layer[-1].dot(params[1][i]))\n",
    "        output_layer[-1] += params[0][i]\n",
    "        input_layer.append(np.maximum(output_layer[-1], 0))\n",
    "\n",
    "    # final layer forward pass\n",
    "    \n",
    "    output_layer.append(input_layer[-1].dot(params[1][-1]))\n",
    "    output_layer[-1] += params[0][-1]\n",
    "\n",
    "    final = output_layer[-1]\n",
    "    x_sigmoid = sigmoid(final)\n",
    "\n",
    "    x_mse = mse(out, x_sigmoid)\n",
    "\n",
    "    # backward pass\n",
    "    # tricky\n",
    "    #basic idea is to use chain rule to calculate d(loss function)/dx for each parameter dx\n",
    "    #d(loss function)/dx is how a small change in x affects loss function.\n",
    "    #we calculate dl/d(input) and dl/d(output) of each layer in order to do this.\n",
    "  \n",
    "    d_mse = mse_derivative(out, x_sigmoid)\n",
    "    d_sigmoid = np.empty_like(final)\n",
    "\n",
    "    # caluculate derivatives for each sigmoiod\n",
    "    for q in range(d_mse.shape[0]):\n",
    "\n",
    "        d_sigmoid[q] = sigmoid_derivative(final[q])*d_mse[q]\n",
    "\n",
    "    # calculate derivatives for the output & input of each layer\n",
    "    d_output_layer.insert(0, d_sigmoid)\n",
    "\n",
    "    for i in range(len(params[0])-1):\n",
    "        \n",
    "        d_input_layer.insert(\n",
    "            0, d_output_layer[-(i+1)].dot(params[1][-(i+1)].T))\n",
    "        \n",
    "        d_output_layer.insert(\n",
    "            0, (input_layer[-(i+1)] > 0).astype(np.float32)*d_input_layer[-(i+1)])\n",
    "\n",
    "    d_params = [[np.sum(d_output_layer[i], axis=0) for i in range(len(d_output_layer))],\n",
    "                [input_layer[i].T.dot(d_output_layer[i]) for i in range(len(d_output_layer))]]\n",
    "\n",
    "    return x_mse, final, d_params"
   ]
  },
  {
   "cell_type": "code",
   "execution_count": 4,
   "metadata": {},
   "outputs": [],
   "source": [
    "def train(params,hyperparams):\n",
    "    losses, accuracies = [], []\n",
    "    lr,BS,iterations = hyperparams\n",
    "    for i in (t := trange(iterations)):\n",
    "        samp = np.random.randint(0, X_train.shape[0], size=(BS))\n",
    "        X = X_train[samp].reshape((-1, 28*28))\n",
    "\n",
    "        Y = Y_train[samp]\n",
    "        \n",
    "        x_loss, final_layer,d_params = forward_backward(X, Y,params)\n",
    "\n",
    "        cat = np.argmax(final_layer, axis=1)\n",
    "        accuracy = (cat == Y).mean()\n",
    "        \n",
    "        #update weights and biases by some constant (learning rate) times their gradient\n",
    "        #gradient calculated above.\n",
    "        for i in range(len(params)):\n",
    "            for j in range(len(params[0])):\n",
    "                params[i][j]-=lr*d_params[i][j]\n",
    "        \n",
    "        loss = x_loss.mean()\n",
    "        losses.append(loss)\n",
    "        accuracies.append(accuracy)\n",
    "        t.set_description(f\"loss {loss:.3f} accuracy {accuracy:.3f}\")\n",
    "\n",
    "    plt.ylim(-0.1, 1.1)\n",
    "    plt.plot(losses)\n",
    "    plt.plot(accuracies)\n",
    "    print(sum(accuracies)/len(accuracies))"
   ]
  },
  {
   "cell_type": "code",
   "execution_count": 10,
   "metadata": {},
   "outputs": [
    {
     "name": "stderr",
     "output_type": "stream",
     "text": [
      "loss 0.004 accuracy 0.984: 100%|██████████████████████████████████████████████████████████████████████████████████████| 1000/1000 [00:29<00:00, 33.60it/s]\n"
     ]
    },
    {
     "name": "stdout",
     "output_type": "stream",
     "text": [
      "0.8774921875\n",
      "accuracy on test data is 95.87%\n"
     ]
    },
    {
     "name": "stderr",
     "output_type": "stream",
     "text": [
      "loss 0.004 accuracy 0.984: 100%|██████████████████████████████████████████████████████████████████████████████████████| 1000/1000 [00:24<00:00, 40.31it/s]\n"
     ]
    },
    {
     "name": "stdout",
     "output_type": "stream",
     "text": [
      "0.9649921875\n",
      "accuracy on test data is 96.15%\n"
     ]
    },
    {
     "name": "stderr",
     "output_type": "stream",
     "text": [
      "loss 0.004 accuracy 0.977: 100%|██████████████████████████████████████████████████████████████████████████████████████| 1000/1000 [00:24<00:00, 40.14it/s]\n"
     ]
    },
    {
     "name": "stdout",
     "output_type": "stream",
     "text": [
      "0.966265625\n",
      "accuracy on test data is 96.21%\n"
     ]
    },
    {
     "name": "stderr",
     "output_type": "stream",
     "text": [
      "loss 0.007 accuracy 0.953: 100%|██████████████████████████████████████████████████████████████████████████████████████| 1000/1000 [00:21<00:00, 45.96it/s]\n"
     ]
    },
    {
     "name": "stdout",
     "output_type": "stream",
     "text": [
      "0.96678125\n",
      "accuracy on test data is 96.19%\n"
     ]
    },
    {
     "name": "stderr",
     "output_type": "stream",
     "text": [
      "loss 0.005 accuracy 0.977: 100%|██████████████████████████████████████████████████████████████████████████████████████| 1000/1000 [00:24<00:00, 40.60it/s]\n"
     ]
    },
    {
     "name": "stdout",
     "output_type": "stream",
     "text": [
      "0.9672734375\n",
      "accuracy on test data is 96.19%\n"
     ]
    },
    {
     "data": {
      "image/png": "[encoded data removed]",
      "text/plain": [
       "<Figure size 640x480 with 1 Axes>"
      ]
     },
     "metadata": {},
     "output_type": "display_data"
    }
   ],
   "source": [
    "#input and output are fixed for this training data.\n",
    "#hidden sizes can be changed.\n",
    "hidden_sizes = [512,128]\n",
    "#64x64 pixels = 784 pixels when flattened out\n",
    "input_size = 784\n",
    "#one output neuron for each digit 0-9\n",
    "output_size = 10\n",
    "np.random.seed(77)\n",
    "\n",
    "params = get_params(input_size,hidden_sizes,output_size,gaussian_init)\n",
    "\n",
    "#batch size\n",
    "BS = 128\n",
    "#learning rate hard to get right\n",
    "lr = 0.001\n",
    "iterations=1000\n",
    "\n",
    "#hyper parameters control how parameters are trained.\n",
    "hyperparams = [lr,BS,iterations]\n",
    "\n",
    "#two iterations of 1000 batches\n",
    "for i in range(5):\n",
    "    train(params,hyperparams)\n",
    "    \n",
    "    print(f'accuracy on test data is {round(numpy_eval(params),4)*100}%')\n",
    "    #decrease learning rate as model trains.\n",
    "    #at start of training, we need to change parameters a lot.\n",
    "    #then towards the end it is more finetuning.\n",
    "    hyperparams[0]*=0.1"
   ]
  },
  {
   "cell_type": "code",
   "execution_count": 11,
   "metadata": {},
   "outputs": [
    {
     "name": "stdout",
     "output_type": "stream",
     "text": [
      "accuracy on test data is 96.19%\n"
     ]
    }
   ],
   "source": [
    "\n",
    "print(f'accuracy on test data is {round(numpy_eval(params),4)*100}%')\n"
   ]
  },
  {
   "cell_type": "code",
   "execution_count": 12,
   "metadata": {},
   "outputs": [
    {
     "name": "stdout",
     "output_type": "stream",
     "text": [
      "Predicted value is : 0, this is correct!\n"
     ]
    },
    {
     "data": {
      "image/png": "[encoded data removed]",
      "text/plain": [
       "<Figure size 640x480 with 1 Axes>"
      ]
     },
     "metadata": {},
     "output_type": "display_data"
    }
   ],
   "source": [
    "samp = np.random.randint(0, X_test.shape[0], size=(1))\n",
    "img = X_test[samp]\n",
    "y = np.argmax(forward(img.reshape((-1,28*28)),params))\n",
    "print(f'Predicted value is : {y}, this is {[\"wrong.\",\"correct!\"][int(Y_test[samp][0]==y)]}')\n",
    "plt.imshow(img[0], interpolation='nearest')\n",
    "plt.show()\n",
    "\n",
    "\n"
   ]
  },
  {
   "cell_type": "code",
   "execution_count": null,
   "metadata": {},
   "outputs": [],
   "source": []
  }
 ],
 "metadata": {
  "kernelspec": {
   "display_name": "Python 3 (ipykernel)",
   "language": "python",
   "name": "python3"
  },
  "language_info": {
   "codemirror_mode": {
    "name": "ipython",
    "version": 3
   },
   "file_extension": ".py",
   "mimetype": "text/x-python",
   "name": "python",
   "nbconvert_exporter": "python",
   "pygments_lexer": "ipython3",
   "version": "3.10.6"
  }
 },
 "nbformat": 4,
 "nbformat_minor": 4
}
