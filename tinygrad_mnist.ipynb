{
  "cells": [
    {
      "cell_type": "markdown",
      "metadata": {
        "id": "w2JyiYXA34wU"
      },
      "source": [
        "# Tinygrad MNIST"
      ]
    },
    {
      "cell_type": "markdown",
      "metadata": {
        "id": "C0zh0zqQ4Fs0"
      },
      "source": [
        "## Imports"
      ]
    },
    {
      "cell_type": "code",
      "execution_count": null,
      "metadata": {
        "colab": {
          "base_uri": "https://localhost:8080/"
        },
        "id": "WD9bli_A3pWV",
        "outputId": "bfe342f0-89bd-489d-a6e1-d1b584219907"
      },
      "outputs": [
        {
          "name": "stdout",
          "output_type": "stream",
          "text": [
            "Looking in indexes: https://pypi.org/simple, https://us-python.pkg.dev/colab-wheels/public/simple/\n",
            "Requirement already satisfied: tinygrad in /usr/local/lib/python3.10/dist-packages (0.6.0)\n",
            "Requirement already satisfied: numpy in /usr/local/lib/python3.10/dist-packages (from tinygrad) (1.22.4)\n",
            "Requirement already satisfied: requests in /usr/local/lib/python3.10/dist-packages (from tinygrad) (2.27.1)\n",
            "Requirement already satisfied: pillow in /usr/local/lib/python3.10/dist-packages (from tinygrad) (8.4.0)\n",
            "Requirement already satisfied: tqdm in /usr/local/lib/python3.10/dist-packages (from tinygrad) (4.65.0)\n",
            "Requirement already satisfied: networkx in /usr/local/lib/python3.10/dist-packages (from tinygrad) (3.1)\n",
            "Requirement already satisfied: pyopencl in /usr/local/lib/python3.10/dist-packages (from tinygrad) (2023.1)\n",
            "Requirement already satisfied: pytools>=2021.2.7 in /usr/local/lib/python3.10/dist-packages (from pyopencl->tinygrad) (2022.1.14)\n",
            "Requirement already satisfied: platformdirs>=2.2.0 in /usr/local/lib/python3.10/dist-packages (from pyopencl->tinygrad) (3.3.0)\n",
            "Requirement already satisfied: urllib3<1.27,>=1.21.1 in /usr/local/lib/python3.10/dist-packages (from requests->tinygrad) (1.26.15)\n",
            "Requirement already satisfied: certifi>=2017.4.17 in /usr/local/lib/python3.10/dist-packages (from requests->tinygrad) (2022.12.7)\n",
            "Requirement already satisfied: charset-normalizer~=2.0.0 in /usr/local/lib/python3.10/dist-packages (from requests->tinygrad) (2.0.12)\n",
            "Requirement already satisfied: idna<4,>=2.5 in /usr/local/lib/python3.10/dist-packages (from requests->tinygrad) (3.4)\n",
            "Requirement already satisfied: typing-extensions>=4.0 in /usr/local/lib/python3.10/dist-packages (from pytools>=2021.2.7->pyopencl->tinygrad) (4.5.0)\n"
          ]
        }
      ],
      "source": [
        "##UNCOMMENT IN GOOGLE COLAB\n",
        "##!pip install tinygrad \n",
        "\n",
        "import math\n",
        "import matplotlib.pyplot as plt\n",
        "import hashlib\n",
        "import requests\n",
        "import gzip\n",
        "import os\n",
        "from tinygrad.nn import optim\n",
        "from tinygrad.helpers import getenv\n",
        "from tinygrad.tensor import Tensor\n",
        "from torchvision.utils import make_grid, save_image\n",
        "import torch\n",
        "from tqdm import trange\n",
        "import numpy as np\n",
        "from pathlib import Path\n",
        "\n",
        "\n",
        "%matplotlib inline\n"
      ]
    },
    {
      "attachments": {},
      "cell_type": "markdown",
      "metadata": {
        "id": "O6CL4By5U1DL"
      },
      "source": [
        "## Fetch Dataset"
      ]
    },
    {
      "cell_type": "code",
      "execution_count": null,
      "metadata": {
        "id": "IafK89AK45T2"
      },
      "outputs": [],
      "source": [
        "\n",
        "def fetch(url):\n",
        "\n",
        "    fp = os.path.join(\"/tmp\", hashlib.md5(url.encode('utf-8')).hexdigest())\n",
        "    if os.path.isfile(fp):\n",
        "        with open(fp, \"rb\") as f:\n",
        "            dat = f.read()\n",
        "    else:\n",
        "        with open(fp, \"wb\") as f:\n",
        "            dat = requests.get(url).content\n",
        "            f.write(dat)\n",
        "    return np.frombuffer(gzip.decompress(dat), dtype=np.uint8).copy()\n",
        "\n",
        "\n",
        "X_train = fetch(\n",
        "    \"http://yann.lecun.com/exdb/mnist/train-images-idx3-ubyte.gz\")[0x10:].reshape((-1, 28, 28)).astype(np.float32)\n",
        "Y_train = fetch(\n",
        "    \"http://yann.lecun.com/exdb/mnist/train-labels-idx1-ubyte.gz\")[8:]\n",
        "X_test = fetch(\n",
        "    \"http://yann.lecun.com/exdb/mnist/t10k-images-idx3-ubyte.gz\")[0x10:].reshape((-1, 28, 28)).astype(np.float32)\n",
        "Y_test = fetch(\n",
        "    \"http://yann.lecun.com/exdb/mnist/t10k-labels-idx1-ubyte.gz\")[8:]\n"
      ]
    },
    {
      "cell_type": "markdown",
      "metadata": {
        "id": "5fPfcQ6K4Jh3"
      },
      "source": [
        "## Create Model"
      ]
    },
    {
      "cell_type": "code",
      "execution_count": null,
      "metadata": {
        "id": "PCo4Fzcd325D"
      },
      "outputs": [],
      "source": [
        "def batch(BS):\n",
        "    samp = np.random.randint(0, X_train.shape[0], size=(BS))\n",
        "    x = X_train[samp].reshape((-1, 28*28))\n",
        "    y_list = Y_train[samp]\n",
        "    y_ = np.zeros((len(y_list), 10), np.float32)\n",
        "    y_[range(y_.shape[0]), y_list] = 1\n",
        "    return Tensor(x), Tensor(y_)\n",
        "\n",
        "\n",
        "def eval():\n",
        "    Y_test_preds_out = model.forward(\n",
        "        Tensor(X_test.reshape((-1, 28*28)))).numpy()\n",
        "    Y_test_preds = np.argmax(Y_test_preds_out, axis=1)\n",
        "    return (Y_test == Y_test_preds).mean()\n",
        "\n",
        "\n",
        "def layer_init(m, h):\n",
        "    return Tensor.uniform(m, h)*math.sqrt(6/(2*m*h))\n",
        "\n",
        "\n",
        "def gaussian_init(m, h):\n",
        "    ret = np.random.uniform(-1., 1., size=(m, h))/np.sqrt(m*h)\n",
        "    return Tensor(ret.astype(np.float32))\n",
        "\n",
        "\n",
        "class NeuralNet:\n",
        "    def __init__(self, layers=[784, 128, 10]):\n",
        "        self.layers = layers\n",
        "        self.params = [[], []]\n",
        "        for k in range(len(layers)-1):\n",
        "            self.params[1].append(gaussian_init(layers[k], layers[k+1]))\n",
        "            self.params[0].append(gaussian_init(1, layers[k+1]))\n",
        "\n",
        "    def forward(self, x):\n",
        "        for k in range(len(self.params)):\n",
        "            x = x.dot(self.params[1][k])+self.params[0][k]\n",
        "            if k != len(self.params)-1:\n",
        "                x = x.relu()\n",
        "        return x.sigmoid()\n"
      ]
    },
    {
      "attachments": {},
      "cell_type": "markdown",
      "metadata": {
        "id": "bo41G5WfbQU6"
      },
      "source": [
        "## Train Model"
      ]
    },
    {
      "cell_type": "code",
      "execution_count": null,
      "metadata": {
        "id": "ZaFQ5Sh5mmV9"
      },
      "outputs": [],
      "source": [
        "model = NeuralNet()"
      ]
    },
    {
      "cell_type": "code",
      "execution_count": null,
      "metadata": {
        "colab": {
          "base_uri": "https://localhost:8080/"
        },
        "id": "ir-QDJg2bSUd",
        "outputId": "0fd141db-edc7-4ce8-a839-39909953c91f"
      },
      "outputs": [
        {
          "name": "stdout",
          "output_type": "stream",
          "text": [
            "accuracy on test data is 0.149\n",
            "accuracy on test data is 0.8061\n",
            "accuracy on test data is 0.9055\n",
            "accuracy on test data is 0.9203\n",
            "accuracy on test data is 0.9252\n",
            "accuracy on test data is 0.9285\n",
            "accuracy on test data is 0.9369\n",
            "accuracy on test data is 0.9388\n",
            "accuracy on test data is 0.943\n",
            "accuracy on test data is 0.9422\n",
            "accuracy on test data is 0.9481\n",
            "accuracy on test data is 0.9485\n",
            "accuracy on test data is 0.9487\n",
            "accuracy on test data is 0.9498\n",
            "accuracy on test data is 0.9505\n",
            "accuracy on test data is 0.9498\n",
            "accuracy on test data is 0.9503\n",
            "accuracy on test data is 0.95\n",
            "accuracy on test data is 0.9501\n",
            "accuracy on test data is 0.9509\n"
          ]
        }
      ],
      "source": [
        "\n",
        "LR = 0.01\n",
        "opt = optim.SGD([*model.params[0], *model.params[1]], lr=LR)\n",
        "\n",
        "BS = 128\n",
        "# ... complete data loader here\n",
        "for k in range(2):\n",
        "\n",
        "    for l in range(1000):\n",
        "\n",
        "        x, y = batch(BS)\n",
        "\n",
        "        out = model.forward(x)\n",
        "        # print(out.mean(axis=1).numpy())\n",
        "        # print(out.numpy().mean(axis=0).shape)\n",
        "\n",
        "        loss = (out-y).pow(2).mean(axis=0).mean()\n",
        "\n",
        "        if not (l % 100):\n",
        "            print(f\"accuracy on test data is {eval()}\")\n",
        "        opt.zero_grad()\n",
        "        loss.backward()\n",
        "        opt.step()\n",
        "    LR *= 0.1\n",
        "    opt = optim.SGD([*model.params[0], *model.params[1]], lr=LR)\n"
      ]
    },
    {
      "attachments": {},
      "cell_type": "markdown",
      "metadata": {
        "id": "urC8FuT9mwTp"
      },
      "source": [
        "## Evaluation"
      ]
    },
    {
      "cell_type": "code",
      "execution_count": null,
      "metadata": {
        "colab": {
          "base_uri": "https://localhost:8080/"
        },
        "id": "x3zUvTEGBO0a",
        "outputId": "76703d19-2554-411d-b22f-adf73bb76380"
      },
      "outputs": [
        {
          "data": {
            "text/plain": [
              "0.9509"
            ]
          },
          "execution_count": 6,
          "metadata": {},
          "output_type": "execute_result"
        }
      ],
      "source": [
        "eval()\n"
      ]
    },
    {
      "attachments": {},
      "cell_type": "markdown",
      "metadata": {
        "id": "kfTuDIu3m526"
      },
      "source": [
        "## Demonstration"
      ]
    },
    {
      "cell_type": "code",
      "execution_count": null,
      "metadata": {
        "colab": {
          "base_uri": "https://localhost:8080/",
          "height": 447
        },
        "id": "UbcOR59pXYg9",
        "outputId": "98ba92f1-d0f8-414b-888b-7d7ea47a0112"
      },
      "outputs": [
        {
          "name": "stdout",
          "output_type": "stream",
          "text": [
            "Predicted value is : 8, this is correct!\n"
          ]
        },
        {
          "data": {
            "image/png": "[encoded data removed]",
            "text/plain": [
              "<Figure size 640x480 with 1 Axes>"
            ]
          },
          "metadata": {},
          "output_type": "display_data"
        }
      ],
      "source": [
        "samp = np.random.randint(0, X_test.shape[0], size=(1))\n",
        "img = X_test[samp]\n",
        "y = np.argmax(model.forward(Tensor(img.reshape((-1, 28*28)))).numpy())\n",
        "print(\n",
        "    f'Predicted value is : {y}, this is {[\"wrong.\",\"correct!\"][int(Y_test[samp][0]==y)]}')\n",
        "plt.imshow(img[0], interpolation='nearest')\n",
        "plt.show()\n"
      ]
    }
  ],
  "metadata": {
    "accelerator": "GPU",
    "colab": {
      "gpuType": "T4",
      "provenance": []
    },
    "kernelspec": {
      "display_name": "Python 3",
      "name": "python3"
    },
    "language_info": {
      "name": "python"
    }
  },
  "nbformat": 4,
  "nbformat_minor": 0
}
