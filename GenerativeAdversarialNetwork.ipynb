{
  "cells": [
    {
      "cell_type": "markdown",
      "metadata": {
        "id": "92895339-8e11-4208-a216-8b15f6933f62"
      },
      "source": [
        "# Implementing Generative Adversarial Network (GAN)"
      ],
      "id": "92895339-8e11-4208-a216-8b15f6933f62"
    },
    {
      "cell_type": "markdown",
      "metadata": {
        "id": "DVmeDAeuQqSX"
      },
      "source": [
        "In this notebook I implement a [GAN](https://arxiv.org/pdf/1406.2661.pdf). It consists of two parts, a generator and a discriminator. These two networks compete against each other, each helping the other to increase in accuracy.\n",
        "\n",
        "More precisely the discriminator is trained to detect fake images and the generator is trained to create \"real\" images.\n",
        "\n",
        "The generator provides the \"fake\" training data for the discriminator with the dataset providing the \"real\" training data.\n",
        "\n",
        "Simultaneously the generator is trying to produce images the discriminator thinks are real with the discriminator acting as a loss function for the generator"
      ],
      "id": "DVmeDAeuQqSX"
    },
    {
      "cell_type": "markdown",
      "metadata": {
        "id": "069df629-a42c-4f1e-8be0-436358691b04"
      },
      "source": [
        "## Imports"
      ],
      "id": "069df629-a42c-4f1e-8be0-436358691b04"
    },
    {
      "cell_type": "code",
      "execution_count": null,
      "metadata": {
        "id": "553610b4-d2b7-4d4b-8f79-faf4d5a9ee88"
      },
      "outputs": [],
      "source": [
        "import torch\n",
        "import torch.nn as nn\n",
        "import torch.nn.functional as F\n",
        "import torch.optim as optim\n",
        "from torch import Tensor\n",
        "from torch.utils.data import Dataset\n",
        "from torchvision import datasets\n",
        "from torchvision.transforms import ToTensor\n",
        "import matplotlib.pyplot as plt\n",
        "from torch.utils.data import DataLoader\n",
        "import matplotlib.pyplot as plt\n",
        "import random\n",
        "\n",
        "import time\n",
        "\n",
        "BS=128\n",
        "device = 'cuda' if torch.cuda.is_available() else 'cpu'"
      ],
      "id": "553610b4-d2b7-4d4b-8f79-faf4d5a9ee88"
    },
    {
      "cell_type": "markdown",
      "metadata": {
        "id": "4c2bc754-b75f-45ce-afdf-ac8b8c40c0c6"
      },
      "source": [
        "## Get Data"
      ],
      "id": "4c2bc754-b75f-45ce-afdf-ac8b8c40c0c6"
    },
    {
      "cell_type": "code",
      "execution_count": null,
      "metadata": {
        "colab": {
          "base_uri": "https://localhost:8080/"
        },
        "id": "01ca06b6-c0a2-4df5-8996-47b3759470a1",
        "outputId": "2b7152be-094e-4741-e030-b28a878413fb"
      },
      "outputs": [
        {
          "output_type": "stream",
          "name": "stdout",
          "text": [
            "Downloading http://fashion-mnist.s3-website.eu-central-1.amazonaws.com/train-images-idx3-ubyte.gz\n",
            "Downloading http://fashion-mnist.s3-website.eu-central-1.amazonaws.com/train-images-idx3-ubyte.gz to data/FashionMNIST/raw/train-images-idx3-ubyte.gz\n"
          ]
        },
        {
          "output_type": "stream",
          "name": "stderr",
          "text": [
            "100%|██████████| 26421880/26421880 [00:02<00:00, 10548027.66it/s]\n"
          ]
        },
        {
          "output_type": "stream",
          "name": "stdout",
          "text": [
            "Extracting data/FashionMNIST/raw/train-images-idx3-ubyte.gz to data/FashionMNIST/raw\n",
            "\n",
            "Downloading http://fashion-mnist.s3-website.eu-central-1.amazonaws.com/train-labels-idx1-ubyte.gz\n",
            "Downloading http://fashion-mnist.s3-website.eu-central-1.amazonaws.com/train-labels-idx1-ubyte.gz to data/FashionMNIST/raw/train-labels-idx1-ubyte.gz\n"
          ]
        },
        {
          "output_type": "stream",
          "name": "stderr",
          "text": [
            "100%|██████████| 29515/29515 [00:00<00:00, 173673.35it/s]\n"
          ]
        },
        {
          "output_type": "stream",
          "name": "stdout",
          "text": [
            "Extracting data/FashionMNIST/raw/train-labels-idx1-ubyte.gz to data/FashionMNIST/raw\n",
            "\n",
            "Downloading http://fashion-mnist.s3-website.eu-central-1.amazonaws.com/t10k-images-idx3-ubyte.gz\n",
            "Downloading http://fashion-mnist.s3-website.eu-central-1.amazonaws.com/t10k-images-idx3-ubyte.gz to data/FashionMNIST/raw/t10k-images-idx3-ubyte.gz\n"
          ]
        },
        {
          "output_type": "stream",
          "name": "stderr",
          "text": [
            "100%|██████████| 4422102/4422102 [00:01<00:00, 3262430.80it/s]\n"
          ]
        },
        {
          "output_type": "stream",
          "name": "stdout",
          "text": [
            "Extracting data/FashionMNIST/raw/t10k-images-idx3-ubyte.gz to data/FashionMNIST/raw\n",
            "\n",
            "Downloading http://fashion-mnist.s3-website.eu-central-1.amazonaws.com/t10k-labels-idx1-ubyte.gz\n",
            "Downloading http://fashion-mnist.s3-website.eu-central-1.amazonaws.com/t10k-labels-idx1-ubyte.gz to data/FashionMNIST/raw/t10k-labels-idx1-ubyte.gz\n"
          ]
        },
        {
          "output_type": "stream",
          "name": "stderr",
          "text": [
            "100%|██████████| 5148/5148 [00:00<00:00, 21854531.37it/s]"
          ]
        },
        {
          "output_type": "stream",
          "name": "stdout",
          "text": [
            "Extracting data/FashionMNIST/raw/t10k-labels-idx1-ubyte.gz to data/FashionMNIST/raw\n",
            "\n"
          ]
        },
        {
          "output_type": "stream",
          "name": "stderr",
          "text": [
            "\n"
          ]
        }
      ],
      "source": [
        "training_data = datasets.FashionMNIST(\n",
        "    root=\"data\",\n",
        "    train=True,\n",
        "    download=True,\n",
        "    transform=ToTensor()\n",
        ")\n",
        "\n",
        "test_data = datasets.FashionMNIST(\n",
        "    root=\"data\",\n",
        "    train=False,\n",
        "    download=True,\n",
        "    transform=ToTensor()\n",
        ")\n",
        "\n",
        "train_dataloader = DataLoader(training_data, batch_size=BS, shuffle=True)\n",
        "test_dataloader = DataLoader(test_data, batch_size=BS, shuffle=True)"
      ],
      "id": "01ca06b6-c0a2-4df5-8996-47b3759470a1"
    },
    {
      "cell_type": "markdown",
      "metadata": {
        "id": "93c1b55c-80fe-4487-84f2-fe846da66518"
      },
      "source": [
        "## Create Generative Model"
      ],
      "id": "93c1b55c-80fe-4487-84f2-fe846da66518"
    },
    {
      "cell_type": "code",
      "execution_count": null,
      "metadata": {
        "id": "Z3FITC4j0PDw"
      },
      "outputs": [],
      "source": [
        "class GenNet(nn.Module):\n",
        "    def __init__(self):\n",
        "        super(GenNet, self).__init__()\n",
        "        self.fc1 = nn.Linear(100,3136)\n",
        "        self.bn1 = nn.BatchNorm1d(1)\n",
        "        self.conv1 = nn.ConvTranspose2d(64, 128, (5,5),padding=2,output_padding=1, stride = 2)\n",
        "        self.bn2 = nn.BatchNorm2d(128)\n",
        "        self.conv2 = nn.ConvTranspose2d(128, 1, (5,5),padding=2,output_padding=1,stride = 2)\n",
        "\n",
        "    def forward(self, x):\n",
        "        x.reshape(-1,1,100)\n",
        "        x = self.fc1(x)\n",
        "        x = x.reshape(-1,1,3136)\n",
        "        x = self.bn1(x)\n",
        "        x = F.elu(x)\n",
        "        x = x.reshape(-1,64,7,7)\n",
        "        x = self.bn2(self.conv1(x))\n",
        "        x = F.elu(x)\n",
        "        x = self.conv2(x)\n",
        "        x = F.sigmoid(x)\n",
        "        x.reshape(-1,28,28)\n",
        "        return x"
      ],
      "id": "Z3FITC4j0PDw"
    },
    {
      "cell_type": "markdown",
      "metadata": {
        "id": "ZAxMXNYgoEtw"
      },
      "source": [
        "## Create Classifier Model"
      ],
      "id": "ZAxMXNYgoEtw"
    },
    {
      "cell_type": "code",
      "execution_count": null,
      "metadata": {
        "id": "z_rOdg8Q5OmS"
      },
      "outputs": [],
      "source": [
        "class ClassNet(nn.Module):\n",
        "    def __init__(self):\n",
        "        super(ClassNet, self).__init__()\n",
        "        #2 convolutional layers followed by 3 FC layers\n",
        "        self.conv1 = nn.Conv2d(1, 64, (5,5),padding=2, stride = 2)\n",
        "        self.bn1 = nn.BatchNorm2d(64)\n",
        "\n",
        "        self.conv2 = nn.Conv2d(64, 128, (7,7), padding=3, stride = 2)\n",
        "        self.bn2 = nn.BatchNorm2d(128)\n",
        "        self.fc1 = nn.Linear(6272, 128)\n",
        "        #first output is discriminator: 1 for real, 0 for fake\n",
        "        #next 10 indicate which digit the discriminator thinks it is\n",
        "        self.fc2 = nn.Linear(128, 1)\n",
        "\n",
        "\n",
        "    def forward(self, x):\n",
        "        x.reshape(-1,1,28,28)\n",
        "        x = self.bn1(self.conv1(x))\n",
        "        x = F.elu(x)\n",
        "\n",
        "        x = self.bn2(self.conv2(x))\n",
        "        x = F.elu(x)\n",
        "\n",
        "        x = x.reshape(-1,1,6272)\n",
        "        x = F.elu(self.fc1(x))\n",
        "\n",
        "        x = F.elu(self.fc2(x))\n",
        "\n",
        "        return x"
      ],
      "id": "z_rOdg8Q5OmS"
    },
    {
      "cell_type": "markdown",
      "source": [
        "## Training"
      ],
      "metadata": {
        "id": "hmU4LCJjKKRI"
      },
      "id": "hmU4LCJjKKRI"
    },
    {
      "cell_type": "code",
      "execution_count": null,
      "metadata": {
        "id": "bOFvuETFY-A5"
      },
      "outputs": [],
      "source": [
        "classifierModel = ClassNet()\n",
        "generatorModel = GenNet()\n",
        "\n",
        "def mse_loss(output,target):\n",
        "  return ((output-target)**2).mean()\n",
        "loss_fn = mse_loss\n",
        "learning_rate=0.001\n",
        "\n"
      ],
      "id": "bOFvuETFY-A5"
    },
    {
      "cell_type": "code",
      "source": [
        "classifierModel.to(device)\n",
        "generatorModel.to(device)\n",
        "\n",
        "\n",
        "generatorOptim = optim.Adam(generatorModel.parameters(), lr=learning_rate)\n",
        "classifierOptim = optim.Adam(classifierModel.parameters(), lr=learning_rate)\n",
        "def train_one_epoch(learning_rate=0.01):\n",
        "      for inputs, labels in train_dataloader:\n",
        "            #discriminator training\n",
        "            classifierOptim.zero_grad()\n",
        "\n",
        "            inputs_fake = torch.randn((128,100)).to(device)\n",
        "            outputs_real = classifierModel(inputs.to(device))\n",
        "            outputs_fake = classifierModel(generatorModel(inputs_fake).reshape(-1,1,28,28))\n",
        "            lossReal = loss_fn(outputs_real, torch.ones(BS).to(device))\n",
        "            lossFake = loss_fn(outputs_fake, torch.zeros(BS).to(device))\n",
        "            #average loss on real and fake data\n",
        "            loss = (lossFake+lossReal)/2\n",
        "            loss.backward()\n",
        "            classifierOptim.step()\n",
        "            #generator training\n",
        "            classifierOptim.zero_grad()\n",
        "            generatorOptim.zero_grad()\n",
        "            inputs_fake = torch.randn((128,100)).to(device)\n",
        "\n",
        "            outputs_fake = classifierModel(generatorModel(inputs_fake).reshape(-1,1,28,28))\n",
        "            #as we want the discriminator to think our images are real, we set targets as ones\n",
        "            loss = loss_fn(outputs_fake, torch.ones(BS).to(device))\n",
        "            loss.backward()\n",
        "            generatorOptim.step()\n",
        "\n"
      ],
      "metadata": {
        "id": "dDOmNeRXtZhL"
      },
      "id": "dDOmNeRXtZhL",
      "execution_count": null,
      "outputs": []
    },
    {
      "cell_type": "code",
      "source": [
        "for _ in range(10):\n",
        "  train_one_epoch()"
      ],
      "metadata": {
        "id": "vF0AgFIvzfDV"
      },
      "id": "vF0AgFIvzfDV",
      "execution_count": null,
      "outputs": []
    },
    {
      "cell_type": "markdown",
      "source": [
        "## Results\n",
        "\n"
      ],
      "metadata": {
        "id": "eHoHvdHWJafq"
      },
      "id": "eHoHvdHWJafq"
    },
    {
      "cell_type": "markdown",
      "source": [
        "Top row are \"fake\" images, bottom row are \"real\""
      ],
      "metadata": {
        "id": "aDgXL7BWJcdc"
      },
      "id": "aDgXL7BWJcdc"
    },
    {
      "cell_type": "code",
      "source": [
        "generatorModel.to('cpu')\n",
        "row_size=3\n",
        "y = generatorModel.forward(torch.randn((row_size,100)).reshape(-1,1,100))\n",
        "\n",
        "generatorModel.to(device)\n",
        "\n",
        "\n",
        "fig, axs = plt.subplots(2, row_size)\n",
        "for i in range(len(axs[0])):\n",
        "  axs[0,i].imshow(y[i].resize(28,28).detach().numpy(),cmap='gray',vmin=0,vmax=1)\n",
        "  axs[1,i].imshow(training_data[i][0].resize(28,28),cmap='gray',vmin=0,vmax=1)\n",
        "  axs[0,i].axis('off')\n",
        "  axs[1,i].axis('off')\n",
        "\n",
        "fig.subplots_adjust(wspace=0, hspace=0)\n"
      ],
      "metadata": {
        "colab": {
          "base_uri": "https://localhost:8080/",
          "height": 387
        },
        "id": "7c1EO7dP4hDV",
        "outputId": "e74f326d-ea6a-436e-e27e-25d97a6fcf50"
      },
      "id": "7c1EO7dP4hDV",
      "execution_count": null,
      "outputs": [
        {
          "output_type": "display_data",
          "data": {
            "text/plain": [
              "<Figure size 640x480 with 6 Axes>"
            ],
            "image/png": "[encoded data removed]"
          },
          "metadata": {}
        }
      ]
    }
  ],
  "metadata": {
    "accelerator": "GPU",
    "colab": {
      "provenance": []
    },
    "kernelspec": {
      "display_name": "Python 3",
      "name": "python3"
    },
    "language_info": {
      "codemirror_mode": {
        "name": "ipython",
        "version": 3
      },
      "file_extension": ".py",
      "mimetype": "text/x-python",
      "name": "python",
      "nbconvert_exporter": "python",
      "pygments_lexer": "ipython3",
      "version": "3.8.10"
    }
  },
  "nbformat": 4,
  "nbformat_minor": 5
}