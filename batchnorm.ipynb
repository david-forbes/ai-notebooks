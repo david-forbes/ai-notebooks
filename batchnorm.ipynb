{
  "cells": [
    {
      "cell_type": "markdown",
      "id": "92895339-8e11-4208-a216-8b15f6933f62",
      "metadata": {
        "id": "92895339-8e11-4208-a216-8b15f6933f62"
      },
      "source": [
        "# Implementing Batchnorm\n",
        "\n",
        "\n"
      ]
    },
    {
      "cell_type": "markdown",
      "source": [
        "In this notebook, I implement [Batchnorm](https://arxiv.org/pdf/1502.03167)"
      ],
      "metadata": {
        "id": "yPkqw4jFLUAt"
      },
      "id": "yPkqw4jFLUAt"
    },
    {
      "cell_type": "markdown",
      "id": "069df629-a42c-4f1e-8be0-436358691b04",
      "metadata": {
        "id": "069df629-a42c-4f1e-8be0-436358691b04"
      },
      "source": [
        "## Imports"
      ]
    },
    {
      "cell_type": "code",
      "execution_count": 1,
      "id": "553610b4-d2b7-4d4b-8f79-faf4d5a9ee88",
      "metadata": {
        "id": "553610b4-d2b7-4d4b-8f79-faf4d5a9ee88"
      },
      "outputs": [],
      "source": [
        "import torch\n",
        "import torch.nn as nn\n",
        "import torch.nn.functional as F\n",
        "import torch.optim as optim\n",
        "from torch import Tensor\n",
        "from torch.utils.data import Dataset\n",
        "from torchvision import datasets\n",
        "from torchvision.transforms import ToTensor\n",
        "import matplotlib.pyplot as plt\n",
        "from torch.utils.data import DataLoader\n",
        "from torch.nn.parameter import Parameter\n",
        "import math\n",
        "\n",
        "import time\n",
        "device = 'cuda' if torch.cuda.is_available() else 'cpu'"
      ]
    },
    {
      "cell_type": "markdown",
      "id": "4c2bc754-b75f-45ce-afdf-ac8b8c40c0c6",
      "metadata": {
        "id": "4c2bc754-b75f-45ce-afdf-ac8b8c40c0c6"
      },
      "source": [
        "## Get Data"
      ]
    },
    {
      "cell_type": "code",
      "execution_count": 2,
      "id": "01ca06b6-c0a2-4df5-8996-47b3759470a1",
      "metadata": {
        "id": "01ca06b6-c0a2-4df5-8996-47b3759470a1",
        "colab": {
          "base_uri": "https://localhost:8080/"
        },
        "outputId": "47bc767e-ae32-45cb-d3c1-5729bf1b8a53"
      },
      "outputs": [
        {
          "output_type": "stream",
          "name": "stdout",
          "text": [
            "Downloading http://yann.lecun.com/exdb/mnist/train-images-idx3-ubyte.gz\n",
            "Downloading http://yann.lecun.com/exdb/mnist/train-images-idx3-ubyte.gz to data/MNIST/raw/train-images-idx3-ubyte.gz\n"
          ]
        },
        {
          "output_type": "stream",
          "name": "stderr",
          "text": [
            "100%|██████████| 9912422/9912422 [00:00<00:00, 265518678.56it/s]"
          ]
        },
        {
          "output_type": "stream",
          "name": "stdout",
          "text": [
            "Extracting data/MNIST/raw/train-images-idx3-ubyte.gz to data/MNIST/raw\n"
          ]
        },
        {
          "output_type": "stream",
          "name": "stderr",
          "text": [
            "\n"
          ]
        },
        {
          "output_type": "stream",
          "name": "stdout",
          "text": [
            "\n",
            "Downloading http://yann.lecun.com/exdb/mnist/train-labels-idx1-ubyte.gz\n",
            "Downloading http://yann.lecun.com/exdb/mnist/train-labels-idx1-ubyte.gz to data/MNIST/raw/train-labels-idx1-ubyte.gz\n"
          ]
        },
        {
          "output_type": "stream",
          "name": "stderr",
          "text": [
            "100%|██████████| 28881/28881 [00:00<00:00, 101284024.94it/s]\n"
          ]
        },
        {
          "output_type": "stream",
          "name": "stdout",
          "text": [
            "Extracting data/MNIST/raw/train-labels-idx1-ubyte.gz to data/MNIST/raw\n",
            "\n",
            "Downloading http://yann.lecun.com/exdb/mnist/t10k-images-idx3-ubyte.gz\n",
            "Downloading http://yann.lecun.com/exdb/mnist/t10k-images-idx3-ubyte.gz to data/MNIST/raw/t10k-images-idx3-ubyte.gz\n"
          ]
        },
        {
          "output_type": "stream",
          "name": "stderr",
          "text": [
            "100%|██████████| 1648877/1648877 [00:00<00:00, 188336139.99it/s]"
          ]
        },
        {
          "output_type": "stream",
          "name": "stdout",
          "text": [
            "Extracting data/MNIST/raw/t10k-images-idx3-ubyte.gz to data/MNIST/raw\n",
            "\n",
            "Downloading http://yann.lecun.com/exdb/mnist/t10k-labels-idx1-ubyte.gz\n"
          ]
        },
        {
          "output_type": "stream",
          "name": "stderr",
          "text": [
            "\n"
          ]
        },
        {
          "output_type": "stream",
          "name": "stdout",
          "text": [
            "Downloading http://yann.lecun.com/exdb/mnist/t10k-labels-idx1-ubyte.gz to data/MNIST/raw/t10k-labels-idx1-ubyte.gz\n"
          ]
        },
        {
          "output_type": "stream",
          "name": "stderr",
          "text": [
            "100%|██████████| 4542/4542 [00:00<00:00, 3725900.40it/s]"
          ]
        },
        {
          "output_type": "stream",
          "name": "stdout",
          "text": [
            "Extracting data/MNIST/raw/t10k-labels-idx1-ubyte.gz to data/MNIST/raw\n",
            "\n"
          ]
        },
        {
          "output_type": "stream",
          "name": "stderr",
          "text": [
            "\n"
          ]
        }
      ],
      "source": [
        "training_data = datasets.MNIST(\n",
        "    root=\"data\",\n",
        "    train=True,\n",
        "    download=True,\n",
        "    transform=ToTensor()\n",
        ")\n",
        "\n",
        "test_data = datasets.MNIST(\n",
        "    root=\"data\",\n",
        "    train=False,\n",
        "    download=True,\n",
        "    transform=ToTensor()\n",
        ")\n",
        "train_dataloader = DataLoader(training_data, batch_size=128, shuffle=True)\n",
        "test_dataloader = DataLoader(test_data, batch_size=128, shuffle=True)"
      ]
    },
    {
      "cell_type": "markdown",
      "id": "93c1b55c-80fe-4487-84f2-fe846da66518",
      "metadata": {
        "id": "93c1b55c-80fe-4487-84f2-fe846da66518"
      },
      "source": [
        "## Create Network\n"
      ]
    },
    {
      "cell_type": "code",
      "source": [
        "class BatchNorm(nn.Module):\n",
        "  def __init__(self):\n",
        "        super(BatchNorm, self).__init__()\n",
        "        self.beta = Parameter(torch.empty(1,device=device))\n",
        "        self.gamma = Parameter(torch.empty(1,device=device))\n",
        "        torch.nn.init.uniform_(self.beta)\n",
        "        torch.nn.init.uniform_(self.gamma)\n",
        "\n",
        "  def forward(self, x):\n",
        "    mean = torch.mean(x)\n",
        "    diff = x - mean\n",
        "    stdev = torch.mean(diff*diff)\n",
        "    z = (x-mean)/torch.sqrt(stdev+0.000001)\n",
        "    return self.gamma*z + self.beta"
      ],
      "metadata": {
        "id": "2lXYZ14jyHsa"
      },
      "id": "2lXYZ14jyHsa",
      "execution_count": 3,
      "outputs": []
    },
    {
      "cell_type": "code",
      "source": [
        "class Net(nn.Module):\n",
        "    def __init__(self):\n",
        "        super(Net, self).__init__()\n",
        "        #we reduce the standard deviation of initialised weights to reduce chance of gradient explosion\n",
        "\n",
        "        self.p1 = nn.Linear(784,512,device=device)\n",
        "        self.bn1 = BatchNorm()\n",
        "        self.p2 = nn.Linear(512,512,device=device)\n",
        "        self.bn2 = BatchNorm()\n",
        "        self.p3 = nn.Linear(512,256,device=device)\n",
        "        self.bn3 = BatchNorm()\n",
        "        self.p4 = nn.Linear(256,10,device=device)\n",
        "\n",
        "    def forward(self, x):\n",
        "\n",
        "        x = F.relu(self.p1(x))\n",
        "        x = self.bn1(x)\n",
        "        x = F.relu(self.p2(x))\n",
        "        x = self.bn2(x)\n",
        "        x = F.relu(self.p3(x))\n",
        "        x = self.bn3(x)\n",
        "        x = self.p4(x)\n",
        "\n",
        "        return x\n"
      ],
      "metadata": {
        "id": "_3n2S1_T1MaY"
      },
      "id": "_3n2S1_T1MaY",
      "execution_count": 4,
      "outputs": []
    },
    {
      "cell_type": "markdown",
      "source": [
        "## Train"
      ],
      "metadata": {
        "id": "ZAxMXNYgoEtw"
      },
      "id": "ZAxMXNYgoEtw"
    },
    {
      "cell_type": "code",
      "source": [
        "\n",
        "def train_one_epoch(model):\n",
        "    loss_fn = nn.CrossEntropyLoss()\n",
        "    model.to(device)\n",
        "\n",
        "    optimizer = optim.Adam(model.parameters(),lr = 0.001)\n",
        "\n",
        "    for inputs, labels in train_dataloader:\n",
        "      optimizer.zero_grad()\n",
        "      inputs = inputs.to(device)\n",
        "      labels = labels.to(device)\n",
        "      outputs = model.forward(inputs.reshape(-1,784))\n",
        "      loss = loss_fn(outputs, labels)\n",
        "      loss.backward()\n",
        "      optimizer.step()\n",
        "\n"
      ],
      "metadata": {
        "id": "pAC2UT0uoD04"
      },
      "id": "pAC2UT0uoD04",
      "execution_count": 5,
      "outputs": []
    },
    {
      "cell_type": "markdown",
      "id": "3e31b860-ce22-48cf-b12c-b78f5c7fd6f1",
      "metadata": {
        "id": "3e31b860-ce22-48cf-b12c-b78f5c7fd6f1"
      },
      "source": [
        "## Test"
      ]
    },
    {
      "cell_type": "code",
      "execution_count": 6,
      "id": "1d87240e-033f-4e44-b4a1-f51d1a39e946",
      "metadata": {
        "id": "1d87240e-033f-4e44-b4a1-f51d1a39e946"
      },
      "outputs": [],
      "source": [
        "def test(model, dataloader = test_dataloader):\n",
        "\n",
        "    with torch.no_grad():\n",
        "        correct = 0\n",
        "        total = 0\n",
        "        for inputs, labels in dataloader:\n",
        "            inputs = inputs.to(device)\n",
        "            labels=labels.to(device)\n",
        "            outputs = model.forward(inputs.reshape(-1,784))\n",
        "            _, predicted = torch.max(outputs.data, 1)\n",
        "            total += labels.size(0)\n",
        "            correct += (predicted == labels).sum().item()\n",
        "    return correct/total"
      ]
    },
    {
      "cell_type": "markdown",
      "id": "7119e3e1-187f-48b2-b0a8-16715655c9ed",
      "metadata": {
        "id": "7119e3e1-187f-48b2-b0a8-16715655c9ed"
      },
      "source": [
        "## Test"
      ]
    },
    {
      "cell_type": "code",
      "source": [
        "model = Net()\n",
        "model.to(device)\n",
        "\n",
        "\n",
        "for _ in range(10):\n",
        "  train_one_epoch(model)\n",
        "  test_acc = test(model)\n",
        "  print(f\"test acc : {test_acc}\")\n",
        "\n",
        "\n"
      ],
      "metadata": {
        "colab": {
          "base_uri": "https://localhost:8080/"
        },
        "id": "YM313KLl1tH7",
        "outputId": "cf619d09-ffea-4fe3-f433-1c585d172527"
      },
      "id": "YM313KLl1tH7",
      "execution_count": 7,
      "outputs": [
        {
          "output_type": "stream",
          "name": "stdout",
          "text": [
            "test acc : 0.9674\n",
            "test acc : 0.9737\n",
            "test acc : 0.975\n",
            "test acc : 0.9799\n",
            "test acc : 0.979\n",
            "test acc : 0.9801\n",
            "test acc : 0.983\n",
            "test acc : 0.9818\n",
            "test acc : 0.9812\n",
            "test acc : 0.9835\n"
          ]
        }
      ]
    }
  ],
  "metadata": {
    "kernelspec": {
      "display_name": "Python 3",
      "name": "python3"
    },
    "language_info": {
      "codemirror_mode": {
        "name": "ipython",
        "version": 3
      },
      "file_extension": ".py",
      "mimetype": "text/x-python",
      "name": "python",
      "nbconvert_exporter": "python",
      "pygments_lexer": "ipython3",
      "version": "3.8.10"
    },
    "colab": {
      "provenance": [],
      "gpuType": "T4",
      "collapsed_sections": [
        "069df629-a42c-4f1e-8be0-436358691b04",
        "4c2bc754-b75f-45ce-afdf-ac8b8c40c0c6"
      ]
    },
    "accelerator": "GPU"
  },
  "nbformat": 4,
  "nbformat_minor": 5
}