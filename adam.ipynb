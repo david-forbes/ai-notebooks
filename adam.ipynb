{
  "cells": [
    {
      "cell_type": "markdown",
      "id": "92895339-8e11-4208-a216-8b15f6933f62",
      "metadata": {
        "id": "92895339-8e11-4208-a216-8b15f6933f62"
      },
      "source": [
        "# Implementing Adam Optimiser"
      ]
    },
    {
      "cell_type": "markdown",
      "source": [
        "In this notebook I implement the Adam optimiser, introduced in [this paper](https://arxiv.org/pdf/1412.6980.pdf), and then test it using a simple CNN"
      ],
      "metadata": {
        "id": "DVmeDAeuQqSX"
      },
      "id": "DVmeDAeuQqSX"
    },
    {
      "cell_type": "markdown",
      "id": "069df629-a42c-4f1e-8be0-436358691b04",
      "metadata": {
        "id": "069df629-a42c-4f1e-8be0-436358691b04"
      },
      "source": [
        "## Imports"
      ]
    },
    {
      "cell_type": "code",
      "execution_count": null,
      "id": "553610b4-d2b7-4d4b-8f79-faf4d5a9ee88",
      "metadata": {
        "id": "553610b4-d2b7-4d4b-8f79-faf4d5a9ee88"
      },
      "outputs": [],
      "source": [
        "import torch\n",
        "import torch.nn as nn\n",
        "import torch.nn.functional as F\n",
        "import torch.optim as optim\n",
        "from torch import Tensor\n",
        "from torch.utils.data import Dataset\n",
        "from torchvision import datasets\n",
        "from torchvision.transforms import ToTensor\n",
        "import matplotlib.pyplot as plt\n",
        "from torch.utils.data import DataLoader\n",
        "\n",
        "import time"
      ]
    },
    {
      "cell_type": "markdown",
      "id": "4c2bc754-b75f-45ce-afdf-ac8b8c40c0c6",
      "metadata": {
        "id": "4c2bc754-b75f-45ce-afdf-ac8b8c40c0c6"
      },
      "source": [
        "## Get Data"
      ]
    },
    {
      "cell_type": "code",
      "execution_count": null,
      "id": "01ca06b6-c0a2-4df5-8996-47b3759470a1",
      "metadata": {
        "id": "01ca06b6-c0a2-4df5-8996-47b3759470a1"
      },
      "outputs": [],
      "source": [
        "training_data = datasets.MNIST(\n",
        "    root=\"data\",\n",
        "    train=True,\n",
        "    download=True,\n",
        "    transform=ToTensor()\n",
        ")\n",
        "\n",
        "test_data = datasets.MNIST(\n",
        "    root=\"data\",\n",
        "    train=False,\n",
        "    download=True,\n",
        "    transform=ToTensor()\n",
        ")\n",
        "train_dataloader = DataLoader(training_data, batch_size=128, shuffle=True)\n",
        "test_dataloader = DataLoader(test_data, batch_size=128, shuffle=True)"
      ]
    },
    {
      "cell_type": "markdown",
      "id": "4643ab58-a7a6-4a02-bf1a-c26dd3d5993a",
      "metadata": {
        "id": "4643ab58-a7a6-4a02-bf1a-c26dd3d5993a"
      },
      "source": [
        "## Create Adam Optimiser"
      ]
    },
    {
      "cell_type": "code",
      "source": [
        "class Adam():\n",
        "  def __init__(self,params,lr=0.001,beta_1=.9,beta_2=.999,epsilon=10**-8):\n",
        "    #by default uses parameters recommended in the paper\n",
        "    self.params=list(params)\n",
        "    self.lr=lr\n",
        "    self.beta_1=beta_1\n",
        "    self.beta_2=beta_2\n",
        "    self.epsilon=epsilon\n",
        "    self.t = 0\n",
        "    #moment vectors\n",
        "    self.v = [0 for x in range(len(self.params))]\n",
        "    self.m= [0 for x in range(len(self.params))]\n",
        "\n",
        "\n",
        "  def step(self):\n",
        "    for i in range(len(self.params)):\n",
        "      with torch.no_grad():\n",
        "        #next timestep\n",
        "        self.t+=1\n",
        "        #set gradient\n",
        "        g_t = self.params[i].grad\n",
        "        #update moment vectors\n",
        "        #notice that the beta parameters act as a decay rate\n",
        "        self.m[i]=self.beta_1*self.m[i]+(1-self.beta_1)*g_t\n",
        "        self.v[i]=self.beta_2*self.v[i]+(1-self.beta_2)*(g_t**2)\n",
        "        #normalise moments\n",
        "        m_hat_t = self.m[i]/(1-(self.beta_1**self.t))\n",
        "        v_hat_t = self.v[i]/(1-(self.beta_2**self.t))\n",
        "        #update parameters of neural network\n",
        "        self.params[i]-=self.lr*(m_hat_t/(torch.sqrt(v_hat_t+self.epsilon)))\n",
        "\n",
        "  def zero_grad(self):\n",
        "    for i in range(len(self.params)):\n",
        "      self.params[i].grad=None\n",
        "\n",
        "\n"
      ],
      "metadata": {
        "id": "AhESRULFNaZx"
      },
      "id": "AhESRULFNaZx",
      "execution_count": null,
      "outputs": []
    },
    {
      "cell_type": "markdown",
      "id": "93c1b55c-80fe-4487-84f2-fe846da66518",
      "metadata": {
        "id": "93c1b55c-80fe-4487-84f2-fe846da66518"
      },
      "source": [
        "## Create Model"
      ]
    },
    {
      "cell_type": "code",
      "execution_count": null,
      "id": "1583a309-390c-4438-8d5c-54fcb38c75b4",
      "metadata": {
        "id": "1583a309-390c-4438-8d5c-54fcb38c75b4"
      },
      "outputs": [],
      "source": [
        "class ConvNet(nn.Module):\n",
        "    def __init__(self):\n",
        "        super(ConvNet, self).__init__()\n",
        "        #2 convolutional layers followed by 3 FC layers\n",
        "        self.conv1 = nn.Conv2d(1, 6, 5)\n",
        "        self.conv2 = nn.Conv2d(6, 16, 5)\n",
        "        self.fc1 = nn.Linear(256, 120)\n",
        "        self.fc2 = nn.Linear(120, 84)\n",
        "        self.fc3 = nn.Linear(84, 10)\n",
        "\n",
        "    def forward(self, x):\n",
        "        x = F.max_pool2d(F.relu(self.conv1(x)), (2, 2))\n",
        "        x = F.max_pool2d(F.relu(self.conv2(x)), 2)\n",
        "        x = torch.flatten(x, 1)\n",
        "        x = F.relu(self.fc1(x))\n",
        "        x = F.relu(self.fc2(x))\n",
        "        x = self.fc3(x)\n",
        "        return x"
      ]
    },
    {
      "cell_type": "markdown",
      "source": [
        "## Train"
      ],
      "metadata": {
        "id": "ZAxMXNYgoEtw"
      },
      "id": "ZAxMXNYgoEtw"
    },
    {
      "cell_type": "code",
      "execution_count": null,
      "id": "54afdccc-177c-4f92-9e46-4a3c1bbed3ac",
      "metadata": {
        "id": "54afdccc-177c-4f92-9e46-4a3c1bbed3ac"
      },
      "outputs": [],
      "source": [
        "def train(model,gpu=True,learning_rate=0.01,num_epochs = 2):\n",
        "    if gpu:model = model.cuda()\n",
        "    else:model = model.cpu()\n",
        "\n",
        "    loss_fn = nn.CrossEntropyLoss()\n",
        "\n",
        "    optimizer = Adam(model.parameters(), lr=learning_rate)\n",
        "    for epoch in range(num_epochs):\n",
        "        for inputs, labels in train_dataloader:\n",
        "            if gpu:inputs,labels = inputs.cuda(),labels.cuda()\n",
        "            else:inputs.cpu(),labels.cpu()\n",
        "            optimizer.zero_grad()\n",
        "            outputs = model(inputs)\n",
        "            loss = loss_fn(outputs, labels)\n",
        "            loss.backward()\n",
        "            optimizer.step()"
      ]
    },
    {
      "cell_type": "markdown",
      "id": "3e31b860-ce22-48cf-b12c-b78f5c7fd6f1",
      "metadata": {
        "id": "3e31b860-ce22-48cf-b12c-b78f5c7fd6f1"
      },
      "source": [
        "## Test"
      ]
    },
    {
      "cell_type": "code",
      "execution_count": null,
      "id": "1d87240e-033f-4e44-b4a1-f51d1a39e946",
      "metadata": {
        "id": "1d87240e-033f-4e44-b4a1-f51d1a39e946"
      },
      "outputs": [],
      "source": [
        "def test(model):\n",
        "    model = model.cpu()\n",
        "    with torch.no_grad():\n",
        "        correct = 0\n",
        "        total = 0\n",
        "        for inputs, labels in test_dataloader:\n",
        "            outputs = model(inputs)\n",
        "            _, predicted = torch.max(outputs.data, 1)\n",
        "            total += labels.size(0)\n",
        "            correct += (predicted == labels).sum().item()\n",
        "    return correct/total"
      ]
    },
    {
      "cell_type": "markdown",
      "id": "7119e3e1-187f-48b2-b0a8-16715655c9ed",
      "metadata": {
        "id": "7119e3e1-187f-48b2-b0a8-16715655c9ed"
      },
      "source": [
        "## It works!"
      ]
    },
    {
      "cell_type": "code",
      "execution_count": null,
      "id": "1f0b5d08-147b-4777-bd30-2cfad8741201",
      "metadata": {
        "id": "1f0b5d08-147b-4777-bd30-2cfad8741201",
        "outputId": "0b33e49a-d5d6-4255-af7f-788706c77905",
        "colab": {
          "base_uri": "https://localhost:8080/"
        }
      },
      "outputs": [
        {
          "output_type": "execute_result",
          "data": {
            "text/plain": [
              "0.9773"
            ]
          },
          "metadata": {},
          "execution_count": 7
        }
      ],
      "source": [
        "model = ConvNet()\n",
        "\n",
        "#set to false if no gpu\n",
        "\n",
        "train(model,gpu=True)\n",
        "test(model)"
      ]
    }
  ],
  "metadata": {
    "kernelspec": {
      "display_name": "Python 3",
      "name": "python3"
    },
    "language_info": {
      "codemirror_mode": {
        "name": "ipython",
        "version": 3
      },
      "file_extension": ".py",
      "mimetype": "text/x-python",
      "name": "python",
      "nbconvert_exporter": "python",
      "pygments_lexer": "ipython3",
      "version": "3.8.10"
    },
    "colab": {
      "provenance": [],
      "gpuType": "T4"
    },
    "accelerator": "GPU"
  },
  "nbformat": 4,
  "nbformat_minor": 5
}